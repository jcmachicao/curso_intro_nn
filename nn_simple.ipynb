{
  "nbformat": 4,
  "nbformat_minor": 0,
  "metadata": {
    "colab": {
      "provenance": [],
      "mount_file_id": "1LT-GeC2shTFtX7TuQqGB9I8k9Y9wUjHh",
      "authorship_tag": "ABX9TyMIg80sGn/2MhIUeDkdlLia",
      "include_colab_link": true
    },
    "kernelspec": {
      "name": "python3",
      "display_name": "Python 3"
    },
    "accelerator": "GPU"
  },
  "cells": [
    {
      "cell_type": "markdown",
      "metadata": {
        "id": "view-in-github",
        "colab_type": "text"
      },
      "source": [
        "<a href=\"https://colab.research.google.com/github/jcmachicao/curso_intro_nn/blob/main/nn_simple.ipynb\" target=\"_parent\"><img src=\"https://colab.research.google.com/assets/colab-badge.svg\" alt=\"Open In Colab\"/></a>"
      ]
    },
    {
      "cell_type": "markdown",
      "metadata": {
        "id": "y-0NM5pn3Kyo"
      },
      "source": [
        "# **Introducción a Redes Neuronales**\n",
        "* Autor: José Carlos Machicao\n",
        "* Licencia: [GestioDinámica](http://www.gestiodinamica.com) 2020"
      ]
    },
    {
      "cell_type": "markdown",
      "metadata": {
        "id": "G4luqjK73TUj"
      },
      "source": [
        "[Tensorflow Playground](https://playground.tensorflow.org)"
      ]
    },
    {
      "cell_type": "code",
      "metadata": {
        "id": "wk9oQvf8YuqM"
      },
      "source": [
        "import torch\n",
        "import torch.nn as nn\n",
        "import pandas as pd\n",
        "import numpy as np\n",
        "import sklearn\n",
        "import matplotlib.pyplot as plt \n",
        "import os"
      ],
      "execution_count": 8,
      "outputs": []
    },
    {
      "cell_type": "code",
      "metadata": {
        "id": "LB2Q7Gqexi0x"
      },
      "source": [
        "from sklearn.preprocessing import MinMaxScaler"
      ],
      "execution_count": 2,
      "outputs": []
    },
    {
      "cell_type": "code",
      "metadata": {
        "id": "YZdtPvFwZluh"
      },
      "source": [
        "ruta = 'drive/My Drive/00 data/'\n",
        "os.listdir(ruta)"
      ],
      "execution_count": null,
      "outputs": []
    },
    {
      "cell_type": "code",
      "metadata": {
        "id": "nd37Ij5MZK8C",
        "colab": {
          "base_uri": "https://localhost:8080/",
          "height": 206
        },
        "outputId": "9886185b-b437-49a3-da2e-cbc63dfd17ac"
      },
      "source": [
        "dataset = pd.read_excel(ruta + 'ActosViolentos.xlsx')\n",
        "dataset.head()"
      ],
      "execution_count": 11,
      "outputs": [
        {
          "output_type": "execute_result",
          "data": {
            "text/plain": [
              "   Edad  Hora Sexo Area  Ingreso     Violento\n",
              "0  Niño  17.0    M   A1      2.0  No Violento\n",
              "1  Niño   3.0    F   A3      4.0  No Violento\n",
              "2  Niño  19.0    F   A1      3.0  No Violento\n",
              "3  Niño  23.0    M   A1      2.0  No Violento\n",
              "4  Niño   7.0    F   A2      5.0     Violento"
            ],
            "text/html": [
              "\n",
              "  <div id=\"df-c0119381-ceab-406f-b304-ef447f5aa566\">\n",
              "    <div class=\"colab-df-container\">\n",
              "      <div>\n",
              "<style scoped>\n",
              "    .dataframe tbody tr th:only-of-type {\n",
              "        vertical-align: middle;\n",
              "    }\n",
              "\n",
              "    .dataframe tbody tr th {\n",
              "        vertical-align: top;\n",
              "    }\n",
              "\n",
              "    .dataframe thead th {\n",
              "        text-align: right;\n",
              "    }\n",
              "</style>\n",
              "<table border=\"1\" class=\"dataframe\">\n",
              "  <thead>\n",
              "    <tr style=\"text-align: right;\">\n",
              "      <th></th>\n",
              "      <th>Edad</th>\n",
              "      <th>Hora</th>\n",
              "      <th>Sexo</th>\n",
              "      <th>Area</th>\n",
              "      <th>Ingreso</th>\n",
              "      <th>Violento</th>\n",
              "    </tr>\n",
              "  </thead>\n",
              "  <tbody>\n",
              "    <tr>\n",
              "      <th>0</th>\n",
              "      <td>Niño</td>\n",
              "      <td>17.0</td>\n",
              "      <td>M</td>\n",
              "      <td>A1</td>\n",
              "      <td>2.0</td>\n",
              "      <td>No Violento</td>\n",
              "    </tr>\n",
              "    <tr>\n",
              "      <th>1</th>\n",
              "      <td>Niño</td>\n",
              "      <td>3.0</td>\n",
              "      <td>F</td>\n",
              "      <td>A3</td>\n",
              "      <td>4.0</td>\n",
              "      <td>No Violento</td>\n",
              "    </tr>\n",
              "    <tr>\n",
              "      <th>2</th>\n",
              "      <td>Niño</td>\n",
              "      <td>19.0</td>\n",
              "      <td>F</td>\n",
              "      <td>A1</td>\n",
              "      <td>3.0</td>\n",
              "      <td>No Violento</td>\n",
              "    </tr>\n",
              "    <tr>\n",
              "      <th>3</th>\n",
              "      <td>Niño</td>\n",
              "      <td>23.0</td>\n",
              "      <td>M</td>\n",
              "      <td>A1</td>\n",
              "      <td>2.0</td>\n",
              "      <td>No Violento</td>\n",
              "    </tr>\n",
              "    <tr>\n",
              "      <th>4</th>\n",
              "      <td>Niño</td>\n",
              "      <td>7.0</td>\n",
              "      <td>F</td>\n",
              "      <td>A2</td>\n",
              "      <td>5.0</td>\n",
              "      <td>Violento</td>\n",
              "    </tr>\n",
              "  </tbody>\n",
              "</table>\n",
              "</div>\n",
              "      <button class=\"colab-df-convert\" onclick=\"convertToInteractive('df-c0119381-ceab-406f-b304-ef447f5aa566')\"\n",
              "              title=\"Convert this dataframe to an interactive table.\"\n",
              "              style=\"display:none;\">\n",
              "        \n",
              "  <svg xmlns=\"http://www.w3.org/2000/svg\" height=\"24px\"viewBox=\"0 0 24 24\"\n",
              "       width=\"24px\">\n",
              "    <path d=\"M0 0h24v24H0V0z\" fill=\"none\"/>\n",
              "    <path d=\"M18.56 5.44l.94 2.06.94-2.06 2.06-.94-2.06-.94-.94-2.06-.94 2.06-2.06.94zm-11 1L8.5 8.5l.94-2.06 2.06-.94-2.06-.94L8.5 2.5l-.94 2.06-2.06.94zm10 10l.94 2.06.94-2.06 2.06-.94-2.06-.94-.94-2.06-.94 2.06-2.06.94z\"/><path d=\"M17.41 7.96l-1.37-1.37c-.4-.4-.92-.59-1.43-.59-.52 0-1.04.2-1.43.59L10.3 9.45l-7.72 7.72c-.78.78-.78 2.05 0 2.83L4 21.41c.39.39.9.59 1.41.59.51 0 1.02-.2 1.41-.59l7.78-7.78 2.81-2.81c.8-.78.8-2.07 0-2.86zM5.41 20L4 18.59l7.72-7.72 1.47 1.35L5.41 20z\"/>\n",
              "  </svg>\n",
              "      </button>\n",
              "      \n",
              "  <style>\n",
              "    .colab-df-container {\n",
              "      display:flex;\n",
              "      flex-wrap:wrap;\n",
              "      gap: 12px;\n",
              "    }\n",
              "\n",
              "    .colab-df-convert {\n",
              "      background-color: #E8F0FE;\n",
              "      border: none;\n",
              "      border-radius: 50%;\n",
              "      cursor: pointer;\n",
              "      display: none;\n",
              "      fill: #1967D2;\n",
              "      height: 32px;\n",
              "      padding: 0 0 0 0;\n",
              "      width: 32px;\n",
              "    }\n",
              "\n",
              "    .colab-df-convert:hover {\n",
              "      background-color: #E2EBFA;\n",
              "      box-shadow: 0px 1px 2px rgba(60, 64, 67, 0.3), 0px 1px 3px 1px rgba(60, 64, 67, 0.15);\n",
              "      fill: #174EA6;\n",
              "    }\n",
              "\n",
              "    [theme=dark] .colab-df-convert {\n",
              "      background-color: #3B4455;\n",
              "      fill: #D2E3FC;\n",
              "    }\n",
              "\n",
              "    [theme=dark] .colab-df-convert:hover {\n",
              "      background-color: #434B5C;\n",
              "      box-shadow: 0px 1px 3px 1px rgba(0, 0, 0, 0.15);\n",
              "      filter: drop-shadow(0px 1px 2px rgba(0, 0, 0, 0.3));\n",
              "      fill: #FFFFFF;\n",
              "    }\n",
              "  </style>\n",
              "\n",
              "      <script>\n",
              "        const buttonEl =\n",
              "          document.querySelector('#df-c0119381-ceab-406f-b304-ef447f5aa566 button.colab-df-convert');\n",
              "        buttonEl.style.display =\n",
              "          google.colab.kernel.accessAllowed ? 'block' : 'none';\n",
              "\n",
              "        async function convertToInteractive(key) {\n",
              "          const element = document.querySelector('#df-c0119381-ceab-406f-b304-ef447f5aa566');\n",
              "          const dataTable =\n",
              "            await google.colab.kernel.invokeFunction('convertToInteractive',\n",
              "                                                     [key], {});\n",
              "          if (!dataTable) return;\n",
              "\n",
              "          const docLinkHtml = 'Like what you see? Visit the ' +\n",
              "            '<a target=\"_blank\" href=https://colab.research.google.com/notebooks/data_table.ipynb>data table notebook</a>'\n",
              "            + ' to learn more about interactive tables.';\n",
              "          element.innerHTML = '';\n",
              "          dataTable['output_type'] = 'display_data';\n",
              "          await google.colab.output.renderOutput(dataTable, element);\n",
              "          const docLink = document.createElement('div');\n",
              "          docLink.innerHTML = docLinkHtml;\n",
              "          element.appendChild(docLink);\n",
              "        }\n",
              "      </script>\n",
              "    </div>\n",
              "  </div>\n",
              "  "
            ]
          },
          "metadata": {},
          "execution_count": 11
        }
      ]
    },
    {
      "cell_type": "code",
      "metadata": {
        "colab": {
          "base_uri": "https://localhost:8080/"
        },
        "id": "Wf8H94hGxGBx",
        "outputId": "f8fd982a-ca14-4b93-b995-6d40db0c1c27"
      },
      "source": [
        "dataset.info()"
      ],
      "execution_count": 12,
      "outputs": [
        {
          "output_type": "stream",
          "name": "stdout",
          "text": [
            "<class 'pandas.core.frame.DataFrame'>\n",
            "RangeIndex: 900 entries, 0 to 899\n",
            "Data columns (total 6 columns):\n",
            " #   Column    Non-Null Count  Dtype  \n",
            "---  ------    --------------  -----  \n",
            " 0   Edad      900 non-null    object \n",
            " 1   Hora      900 non-null    float64\n",
            " 2   Sexo      900 non-null    object \n",
            " 3   Area      900 non-null    object \n",
            " 4   Ingreso   900 non-null    float64\n",
            " 5   Violento  900 non-null    object \n",
            "dtypes: float64(2), object(4)\n",
            "memory usage: 42.3+ KB\n"
          ]
        }
      ]
    },
    {
      "cell_type": "code",
      "metadata": {
        "id": "IE_WhWJRx_s0"
      },
      "source": [
        "cat_var = ['Edad', 'Sexo', 'Area']\n",
        "cat_num = ['Hora', 'Ingreso']"
      ],
      "execution_count": 13,
      "outputs": []
    },
    {
      "cell_type": "code",
      "metadata": {
        "colab": {
          "base_uri": "https://localhost:8080/"
        },
        "id": "SjavwD45yJTf",
        "outputId": "72982bce-78c7-44e1-c4f7-88bde8df1a01"
      },
      "source": [
        "dataset[cat_var].info()"
      ],
      "execution_count": 14,
      "outputs": [
        {
          "output_type": "stream",
          "name": "stdout",
          "text": [
            "<class 'pandas.core.frame.DataFrame'>\n",
            "RangeIndex: 900 entries, 0 to 899\n",
            "Data columns (total 3 columns):\n",
            " #   Column  Non-Null Count  Dtype \n",
            "---  ------  --------------  ----- \n",
            " 0   Edad    900 non-null    object\n",
            " 1   Sexo    900 non-null    object\n",
            " 2   Area    900 non-null    object\n",
            "dtypes: object(3)\n",
            "memory usage: 21.2+ KB\n"
          ]
        }
      ]
    },
    {
      "cell_type": "code",
      "metadata": {
        "colab": {
          "base_uri": "https://localhost:8080/"
        },
        "id": "kNoEUubMFrMn",
        "outputId": "bc4ab393-e961-439c-bf2b-7eeb3d03810f"
      },
      "source": [
        "dataset[cat_var].Edad.unique()"
      ],
      "execution_count": 15,
      "outputs": [
        {
          "output_type": "execute_result",
          "data": {
            "text/plain": [
              "array(['Niño', 'Adulto', 'AdultoMayor', 'Joven'], dtype=object)"
            ]
          },
          "metadata": {},
          "execution_count": 15
        }
      ]
    },
    {
      "cell_type": "code",
      "metadata": {
        "colab": {
          "base_uri": "https://localhost:8080/"
        },
        "id": "3KnWyPlbxdbN",
        "outputId": "08d9bc88-e84b-4a0b-877b-6dde95978f8d"
      },
      "source": [
        "data_cat = pd.get_dummies(dataset[cat_var], drop_first=True)\n",
        "data_num = dataset[cat_num]\n",
        "data = pd.concat([data_cat, data_num], axis=1)\n",
        "scl = MinMaxScaler()\n",
        "scl.fit(data)\n",
        "data = scl.transform(data)\n",
        "data.shape, type(data)"
      ],
      "execution_count": 16,
      "outputs": [
        {
          "output_type": "execute_result",
          "data": {
            "text/plain": [
              "((900, 9), numpy.ndarray)"
            ]
          },
          "metadata": {},
          "execution_count": 16
        }
      ]
    },
    {
      "cell_type": "code",
      "metadata": {
        "colab": {
          "base_uri": "https://localhost:8080/"
        },
        "id": "CxGuJVZcGkGU",
        "outputId": "067ddce7-a45e-42bc-cfe8-0b8d71aeb418"
      },
      "source": [
        "type(data)"
      ],
      "execution_count": 17,
      "outputs": [
        {
          "output_type": "execute_result",
          "data": {
            "text/plain": [
              "numpy.ndarray"
            ]
          },
          "metadata": {},
          "execution_count": 17
        }
      ]
    },
    {
      "cell_type": "code",
      "metadata": {
        "colab": {
          "base_uri": "https://localhost:8080/"
        },
        "id": "2TibdGZN0-6o",
        "outputId": "bc79d581-b818-4198-faf0-74cea7989d2a"
      },
      "source": [
        "labels = np.array(pd.factorize(dataset.Violento)[0])\n",
        "labels.shape, type(labels)"
      ],
      "execution_count": 18,
      "outputs": [
        {
          "output_type": "execute_result",
          "data": {
            "text/plain": [
              "((900,), numpy.ndarray)"
            ]
          },
          "metadata": {},
          "execution_count": 18
        }
      ]
    },
    {
      "cell_type": "code",
      "metadata": {
        "colab": {
          "base_uri": "https://localhost:8080/"
        },
        "id": "kTEOmetVP3HX",
        "outputId": "7a8fe243-5b0c-4ed5-c8ef-81690c1e450e"
      },
      "source": [
        "pd.factorize(dataset.Violento)[1]"
      ],
      "execution_count": 19,
      "outputs": [
        {
          "output_type": "execute_result",
          "data": {
            "text/plain": [
              "Index(['No Violento', 'Violento'], dtype='object')"
            ]
          },
          "metadata": {},
          "execution_count": 19
        }
      ]
    },
    {
      "cell_type": "code",
      "metadata": {
        "id": "_KQmGkVdiUnW"
      },
      "source": [
        "X_np = data.astype(np.float32)\n",
        "y_np = labels.reshape(-1, 1).astype(np.float32)\n",
        "#y_np = labels.reshape(-1, 1)"
      ],
      "execution_count": 20,
      "outputs": []
    },
    {
      "cell_type": "code",
      "metadata": {
        "id": "pGUlGFsqhDsx"
      },
      "source": [
        "X = torch.from_numpy(X_np)\n",
        "y = torch.from_numpy(y_np.reshape(-1, 1))"
      ],
      "execution_count": 21,
      "outputs": []
    },
    {
      "cell_type": "code",
      "metadata": {
        "id": "6XSjGejFwYup",
        "colab": {
          "base_uri": "https://localhost:8080/"
        },
        "outputId": "4fdf04d6-b1af-44d0-c645-cc12c35619cc"
      },
      "source": [
        "X.shape, y.shape"
      ],
      "execution_count": 22,
      "outputs": [
        {
          "output_type": "execute_result",
          "data": {
            "text/plain": [
              "(torch.Size([900, 9]), torch.Size([900, 1]))"
            ]
          },
          "metadata": {},
          "execution_count": 22
        }
      ]
    },
    {
      "cell_type": "code",
      "metadata": {
        "id": "jZTLZ3tF4Ufh",
        "colab": {
          "base_uri": "https://localhost:8080/"
        },
        "outputId": "5675e2cf-9288-4d93-f9f4-e2cc5313486a"
      },
      "source": [
        "torch.cuda.device_count(), torch.cuda.get_device_name(0)"
      ],
      "execution_count": 23,
      "outputs": [
        {
          "output_type": "execute_result",
          "data": {
            "text/plain": [
              "(1, 'Tesla T4')"
            ]
          },
          "metadata": {},
          "execution_count": 23
        }
      ]
    },
    {
      "cell_type": "code",
      "metadata": {
        "colab": {
          "base_uri": "https://localhost:8080/"
        },
        "id": "Yx1XMjMvK7Nz",
        "outputId": "8f2bbc6b-44e0-4180-f9c0-b318f1bd57dd"
      },
      "source": [
        "X.shape"
      ],
      "execution_count": 24,
      "outputs": [
        {
          "output_type": "execute_result",
          "data": {
            "text/plain": [
              "torch.Size([900, 9])"
            ]
          },
          "metadata": {},
          "execution_count": 24
        }
      ]
    },
    {
      "cell_type": "code",
      "metadata": {
        "id": "eDvHpU6ypXmN"
      },
      "source": [
        "model = nn.Sequential(\n",
        "  nn.Linear(X.shape[1], 128),\n",
        "  nn.ReLU(),\n",
        "  nn.Linear(128, 64),\n",
        "  nn.ReLU(),\n",
        "  nn.Linear(64, 64),\n",
        "  nn.ReLU(),\n",
        "  nn.Linear(64, 8),\n",
        "  nn.ReLU(),\n",
        "  nn.Linear(8, 1)\n",
        ")"
      ],
      "execution_count": 41,
      "outputs": []
    },
    {
      "cell_type": "code",
      "source": [
        "model = nn.Sequential(\n",
        "  nn.Linear(X.shape[1], X.shape[0]),\n",
        "  nn.ReLU(),\n",
        "  nn.Linear(X.shape[0], 900),\n",
        "  nn.ReLU(),\n",
        "  nn.Linear(900, 500),\n",
        "  nn.ReLU(),\n",
        "  nn.Linear(500, 100),\n",
        "  nn.ReLU(),\n",
        "  nn.Linear(100, 1)\n",
        ")"
      ],
      "metadata": {
        "id": "wyPRr5SgTP7m"
      },
      "execution_count": null,
      "outputs": []
    },
    {
      "cell_type": "code",
      "metadata": {
        "id": "KbqmryWt5YGB"
      },
      "source": [
        "model.cuda()\n",
        "X_g = X.cuda()\n",
        "y_g = y.cuda()"
      ],
      "execution_count": 42,
      "outputs": []
    },
    {
      "cell_type": "code",
      "metadata": {
        "id": "jP-F4UDU8j4e"
      },
      "source": [
        "optimizador = torch.optim.SGD(model.parameters(), lr=0.01, momentum=0)\n",
        "#criterio = torch.nn.CrossEntropyLoss().cuda()\n",
        "criterio = torch.nn.MSELoss()"
      ],
      "execution_count": 43,
      "outputs": []
    },
    {
      "cell_type": "code",
      "metadata": {
        "id": "u_G5cQABQNDz"
      },
      "source": [
        "errores = []\n",
        "nit = 0\n",
        "EPOCS = 100000"
      ],
      "execution_count": 44,
      "outputs": []
    },
    {
      "cell_type": "code",
      "metadata": {
        "id": "4-TCPnUJqN5s",
        "colab": {
          "base_uri": "https://localhost:8080/"
        },
        "outputId": "910a69ee-1bbe-4bf0-a7b8-eef37f283461"
      },
      "source": [
        "preds = []\n",
        "nit += 1\n",
        "for epo in range(EPOCS):\n",
        "  optimizador.zero_grad()\n",
        "  y_pred = model(X_g)\n",
        "  loss = criterio(y_pred, y_g)\n",
        "  loss.backward()\n",
        "  optimizador.step()\n",
        "  if epo % 10000 == 0:\n",
        "    print(epo, loss.item())\n",
        "    errores.append([epo+nit*EPOCS, loss.item()])\n",
        "    pred = y_pred.cpu().detach().numpy()\n",
        "    preds.append(pred)"
      ],
      "execution_count": 45,
      "outputs": [
        {
          "output_type": "stream",
          "name": "stdout",
          "text": [
            "0 0.2713102698326111\n",
            "10000 0.13057483732700348\n",
            "20000 0.12509237229824066\n",
            "30000 0.1103081926703453\n",
            "40000 0.09691458195447922\n",
            "50000 0.08902984857559204\n",
            "60000 0.0801812931895256\n",
            "70000 0.0667961835861206\n",
            "80000 0.06389190256595612\n",
            "90000 0.04915190115571022\n"
          ]
        }
      ]
    },
    {
      "cell_type": "code",
      "metadata": {
        "colab": {
          "base_uri": "https://localhost:8080/",
          "height": 463
        },
        "id": "VbfArALMM7FF",
        "outputId": "5f1e2674-c906-4e65-aa64-2a3c02972db4"
      },
      "source": [
        "#@title Gráfica\n",
        "plt.figure(figsize=(7,7), facecolor='lightgray')\n",
        "\n",
        "plt.plot(y_np, pred, 'bo', ms=3, label='Red Neuronal')\n",
        "plt.plot([-1,1], [-1, 1], 'b:', lw=4)\n",
        "\n",
        "plt.title('Resultado de Iteración Red Neuronal', fontsize=20)\n",
        "plt.legend(loc='best', fontsize=14)\n",
        "plt.xlabel('GestioDinámica 2020')\n",
        "plt.show()"
      ],
      "execution_count": 46,
      "outputs": [
        {
          "output_type": "display_data",
          "data": {
            "text/plain": [
              "<Figure size 504x504 with 1 Axes>"
            ],
            "image/png": "[encoded data removed]"
          },
          "metadata": {}
        }
      ]
    },
    {
      "cell_type": "code",
      "metadata": {
        "colab": {
          "base_uri": "https://localhost:8080/",
          "height": 320
        },
        "id": "rdTwQjuYCOyE",
        "outputId": "0dea8940-d216-4f9d-a5ad-1b9d0a69b998"
      },
      "source": [
        "err_df = pd.DataFrame(errores)\n",
        "plt.figure(figsize=(8,5), facecolor='white')\n",
        "plt.plot(err_df[0], err_df[1])\n",
        "plt.grid(True)\n",
        "plt.show()"
      ],
      "execution_count": 47,
      "outputs": [
        {
          "output_type": "display_data",
          "data": {
            "text/plain": [
              "<Figure size 576x360 with 1 Axes>"
            ],
            "image/png": "[encoded data removed]"
          },
          "metadata": {}
        }
      ]
    },
    {
      "cell_type": "code",
      "metadata": {
        "id": "36yHZzEROsDq",
        "colab": {
          "base_uri": "https://localhost:8080/"
        },
        "outputId": "3329c1b8-17cf-42d7-d4c9-65031fe011a5"
      },
      "source": [
        "from sklearn.linear_model import LinearRegression\n",
        "from sklearn.naive_bayes import GaussianNB\n",
        "from sklearn.linear_model import LogisticRegression\n",
        "lr = LogisticRegression()\n",
        "mlm = lr.fit(X_np, y_np)\n",
        "nb = GaussianNB()\n",
        "mnb = nb.fit(X_np, y_np)\n",
        "lreg = LinearRegression()\n",
        "mlreg = lreg.fit(X_np, y_np)\n",
        "pred_lm = mlm.predict(X_np)\n",
        "pred_nb = mnb.predict(X_np)\n",
        "pred_lrm = lreg.predict(X_np)\n",
        "len(X_np), len(pred_lm)"
      ],
      "execution_count": 50,
      "outputs": [
        {
          "output_type": "stream",
          "name": "stderr",
          "text": [
            "/usr/local/lib/python3.7/dist-packages/sklearn/utils/validation.py:993: DataConversionWarning: A column-vector y was passed when a 1d array was expected. Please change the shape of y to (n_samples, ), for example using ravel().\n",
            "  y = column_or_1d(y, warn=True)\n",
            "/usr/local/lib/python3.7/dist-packages/sklearn/utils/validation.py:993: DataConversionWarning: A column-vector y was passed when a 1d array was expected. Please change the shape of y to (n_samples, ), for example using ravel().\n",
            "  y = column_or_1d(y, warn=True)\n"
          ]
        },
        {
          "output_type": "execute_result",
          "data": {
            "text/plain": [
              "(900, 900)"
            ]
          },
          "metadata": {},
          "execution_count": 50
        }
      ]
    },
    {
      "cell_type": "code",
      "metadata": {
        "id": "c4zPyndzQLdO",
        "colab": {
          "base_uri": "https://localhost:8080/",
          "height": 614
        },
        "outputId": "2c3dfe75-be96-43c9-e8e0-e155a7557da8"
      },
      "source": [
        "#@title Gráfica\n",
        "plt.figure(figsize=(10,10), facecolor='lightgray')\n",
        "\n",
        "#plt.plot(y_np, pred, 'bo', ms=8, label='Red Neuronal')\n",
        "plt.plot(y_np, pred_nb, 'go', ms=8, label='Naive Bayes')\n",
        "plt.plot(y_np, pred_lm, 'ro', ms=8, label='Regresión Logística')\n",
        "plt.plot(y_np, pred_lrm, 'bo', ms=8, label='Regresión Lineal')\n",
        "plt.plot([-1,1], [-1, 1], 'b:', lw=4)\n",
        "\n",
        "plt.title('Comparación entre Modelos Predictivos', fontsize=20)\n",
        "plt.legend(loc='best', fontsize=14)\n",
        "plt.text(1,1, 'GestioDinámica 2020')\n",
        "plt.show()"
      ],
      "execution_count": 51,
      "outputs": [
        {
          "output_type": "display_data",
          "data": {
            "text/plain": [
              "<Figure size 720x720 with 1 Axes>"
            ],
            "image/png": "[encoded data removed]"
          },
          "metadata": {}
        }
      ]
    },
    {
      "cell_type": "code",
      "metadata": {
        "id": "ljenPE0Oz-o2"
      },
      "source": [
        "data_test = X[0:10].cuda()"
      ],
      "execution_count": 52,
      "outputs": []
    },
    {
      "cell_type": "code",
      "metadata": {
        "colab": {
          "base_uri": "https://localhost:8080/"
        },
        "id": "ZDyn4_3WSqTc",
        "outputId": "b26a88a5-a377-46ea-967d-1098469de169"
      },
      "source": [
        "data_cat.columns"
      ],
      "execution_count": 53,
      "outputs": [
        {
          "output_type": "execute_result",
          "data": {
            "text/plain": [
              "Index(['Edad_AdultoMayor', 'Edad_Joven', 'Edad_Niño', 'Sexo_M', 'Area_A2',\n",
              "       'Area_A3', 'Area_A4'],\n",
              "      dtype='object')"
            ]
          },
          "metadata": {},
          "execution_count": 53
        }
      ]
    },
    {
      "cell_type": "code",
      "metadata": {
        "colab": {
          "base_uri": "https://localhost:8080/"
        },
        "id": "b_MAY8DcSnhZ",
        "outputId": "9a115fff-e33a-4c4c-9c96-a5cefbf6c1b1"
      },
      "source": [
        "data_test"
      ],
      "execution_count": 54,
      "outputs": [
        {
          "output_type": "execute_result",
          "data": {
            "text/plain": [
              "tensor([[0.0000, 0.0000, 1.0000, 1.0000, 0.0000, 0.0000, 0.0000, 0.7083, 0.2500],\n",
              "        [0.0000, 0.0000, 1.0000, 0.0000, 0.0000, 1.0000, 0.0000, 0.1250, 0.7500],\n",
              "        [0.0000, 0.0000, 1.0000, 0.0000, 0.0000, 0.0000, 0.0000, 0.7917, 0.5000],\n",
              "        [0.0000, 0.0000, 1.0000, 1.0000, 0.0000, 0.0000, 0.0000, 0.9583, 0.2500],\n",
              "        [0.0000, 0.0000, 1.0000, 0.0000, 1.0000, 0.0000, 0.0000, 0.2917, 1.0000],\n",
              "        [0.0000, 0.0000, 0.0000, 1.0000, 0.0000, 0.0000, 1.0000, 0.9167, 0.0000],\n",
              "        [1.0000, 0.0000, 0.0000, 1.0000, 0.0000, 0.0000, 0.0000, 0.0000, 0.2500],\n",
              "        [0.0000, 0.0000, 1.0000, 1.0000, 0.0000, 1.0000, 0.0000, 0.6250, 0.0000],\n",
              "        [0.0000, 1.0000, 0.0000, 0.0000, 0.0000, 0.0000, 1.0000, 0.0417, 1.0000],\n",
              "        [0.0000, 1.0000, 0.0000, 0.0000, 0.0000, 0.0000, 0.0000, 0.3750, 0.0000]],\n",
              "       device='cuda:0')"
            ]
          },
          "metadata": {},
          "execution_count": 54
        }
      ]
    },
    {
      "cell_type": "code",
      "metadata": {
        "colab": {
          "base_uri": "https://localhost:8080/"
        },
        "id": "Ei1X2idE0hTA",
        "outputId": "4a2521a1-6c94-44ed-c1ec-551b2503f7ab"
      },
      "source": [
        "model(data_test)"
      ],
      "execution_count": 55,
      "outputs": [
        {
          "output_type": "execute_result",
          "data": {
            "text/plain": [
              "tensor([[0.0732],\n",
              "        [0.0390],\n",
              "        [0.0750],\n",
              "        [0.0456],\n",
              "        [0.2794],\n",
              "        [0.1597],\n",
              "        [0.5690],\n",
              "        [0.0218],\n",
              "        [0.7286],\n",
              "        [0.0046]], device='cuda:0', grad_fn=<AddmmBackward0>)"
            ]
          },
          "metadata": {},
          "execution_count": 55
        }
      ]
    },
    {
      "cell_type": "code",
      "metadata": {
        "colab": {
          "base_uri": "https://localhost:8080/"
        },
        "id": "2NGpsB6Z0yfP",
        "outputId": "ea3976be-d95f-4fda-8f69-4616f7630337"
      },
      "source": [
        "#print(pred[0:10])\n",
        "indices = [i for i in range(len(pred)) if pred[i] < 0.45]\n",
        "len(indices)"
      ],
      "execution_count": 56,
      "outputs": [
        {
          "output_type": "execute_result",
          "data": {
            "text/plain": [
              "779"
            ]
          },
          "metadata": {},
          "execution_count": 56
        }
      ]
    },
    {
      "cell_type": "code",
      "metadata": {
        "colab": {
          "base_uri": "https://localhost:8080/",
          "height": 206
        },
        "id": "J7bW5CCC2R3P",
        "outputId": "0f43ace8-f530-4893-e93e-c5c862612a52"
      },
      "source": [
        "data_10 = dataset.iloc[indices,:]\n",
        "data_10 = data_10.reindex()\n",
        "data_11 = data_10[['Edad', 'Sexo', 'Area', 'Violento']]\n",
        "data_12 = data_11[data_11.Violento == 'No Violento']\n",
        "data_12.head()"
      ],
      "execution_count": 57,
      "outputs": [
        {
          "output_type": "execute_result",
          "data": {
            "text/plain": [
              "     Edad Sexo Area     Violento\n",
              "0    Niño    M   A1  No Violento\n",
              "1    Niño    F   A3  No Violento\n",
              "2    Niño    F   A1  No Violento\n",
              "3    Niño    M   A1  No Violento\n",
              "5  Adulto    M   A4  No Violento"
            ],
            "text/html": [
              "\n",
              "  <div id=\"df-12e128c6-ad64-4ca5-9157-5fa0a93d26e8\">\n",
              "    <div class=\"colab-df-container\">\n",
              "      <div>\n",
              "<style scoped>\n",
              "    .dataframe tbody tr th:only-of-type {\n",
              "        vertical-align: middle;\n",
              "    }\n",
              "\n",
              "    .dataframe tbody tr th {\n",
              "        vertical-align: top;\n",
              "    }\n",
              "\n",
              "    .dataframe thead th {\n",
              "        text-align: right;\n",
              "    }\n",
              "</style>\n",
              "<table border=\"1\" class=\"dataframe\">\n",
              "  <thead>\n",
              "    <tr style=\"text-align: right;\">\n",
              "      <th></th>\n",
              "      <th>Edad</th>\n",
              "      <th>Sexo</th>\n",
              "      <th>Area</th>\n",
              "      <th>Violento</th>\n",
              "    </tr>\n",
              "  </thead>\n",
              "  <tbody>\n",
              "    <tr>\n",
              "      <th>0</th>\n",
              "      <td>Niño</td>\n",
              "      <td>M</td>\n",
              "      <td>A1</td>\n",
              "      <td>No Violento</td>\n",
              "    </tr>\n",
              "    <tr>\n",
              "      <th>1</th>\n",
              "      <td>Niño</td>\n",
              "      <td>F</td>\n",
              "      <td>A3</td>\n",
              "      <td>No Violento</td>\n",
              "    </tr>\n",
              "    <tr>\n",
              "      <th>2</th>\n",
              "      <td>Niño</td>\n",
              "      <td>F</td>\n",
              "      <td>A1</td>\n",
              "      <td>No Violento</td>\n",
              "    </tr>\n",
              "    <tr>\n",
              "      <th>3</th>\n",
              "      <td>Niño</td>\n",
              "      <td>M</td>\n",
              "      <td>A1</td>\n",
              "      <td>No Violento</td>\n",
              "    </tr>\n",
              "    <tr>\n",
              "      <th>5</th>\n",
              "      <td>Adulto</td>\n",
              "      <td>M</td>\n",
              "      <td>A4</td>\n",
              "      <td>No Violento</td>\n",
              "    </tr>\n",
              "  </tbody>\n",
              "</table>\n",
              "</div>\n",
              "      <button class=\"colab-df-convert\" onclick=\"convertToInteractive('df-12e128c6-ad64-4ca5-9157-5fa0a93d26e8')\"\n",
              "              title=\"Convert this dataframe to an interactive table.\"\n",
              "              style=\"display:none;\">\n",
              "        \n",
              "  <svg xmlns=\"http://www.w3.org/2000/svg\" height=\"24px\"viewBox=\"0 0 24 24\"\n",
              "       width=\"24px\">\n",
              "    <path d=\"M0 0h24v24H0V0z\" fill=\"none\"/>\n",
              "    <path d=\"M18.56 5.44l.94 2.06.94-2.06 2.06-.94-2.06-.94-.94-2.06-.94 2.06-2.06.94zm-11 1L8.5 8.5l.94-2.06 2.06-.94-2.06-.94L8.5 2.5l-.94 2.06-2.06.94zm10 10l.94 2.06.94-2.06 2.06-.94-2.06-.94-.94-2.06-.94 2.06-2.06.94z\"/><path d=\"M17.41 7.96l-1.37-1.37c-.4-.4-.92-.59-1.43-.59-.52 0-1.04.2-1.43.59L10.3 9.45l-7.72 7.72c-.78.78-.78 2.05 0 2.83L4 21.41c.39.39.9.59 1.41.59.51 0 1.02-.2 1.41-.59l7.78-7.78 2.81-2.81c.8-.78.8-2.07 0-2.86zM5.41 20L4 18.59l7.72-7.72 1.47 1.35L5.41 20z\"/>\n",
              "  </svg>\n",
              "      </button>\n",
              "      \n",
              "  <style>\n",
              "    .colab-df-container {\n",
              "      display:flex;\n",
              "      flex-wrap:wrap;\n",
              "      gap: 12px;\n",
              "    }\n",
              "\n",
              "    .colab-df-convert {\n",
              "      background-color: #E8F0FE;\n",
              "      border: none;\n",
              "      border-radius: 50%;\n",
              "      cursor: pointer;\n",
              "      display: none;\n",
              "      fill: #1967D2;\n",
              "      height: 32px;\n",
              "      padding: 0 0 0 0;\n",
              "      width: 32px;\n",
              "    }\n",
              "\n",
              "    .colab-df-convert:hover {\n",
              "      background-color: #E2EBFA;\n",
              "      box-shadow: 0px 1px 2px rgba(60, 64, 67, 0.3), 0px 1px 3px 1px rgba(60, 64, 67, 0.15);\n",
              "      fill: #174EA6;\n",
              "    }\n",
              "\n",
              "    [theme=dark] .colab-df-convert {\n",
              "      background-color: #3B4455;\n",
              "      fill: #D2E3FC;\n",
              "    }\n",
              "\n",
              "    [theme=dark] .colab-df-convert:hover {\n",
              "      background-color: #434B5C;\n",
              "      box-shadow: 0px 1px 3px 1px rgba(0, 0, 0, 0.15);\n",
              "      filter: drop-shadow(0px 1px 2px rgba(0, 0, 0, 0.3));\n",
              "      fill: #FFFFFF;\n",
              "    }\n",
              "  </style>\n",
              "\n",
              "      <script>\n",
              "        const buttonEl =\n",
              "          document.querySelector('#df-12e128c6-ad64-4ca5-9157-5fa0a93d26e8 button.colab-df-convert');\n",
              "        buttonEl.style.display =\n",
              "          google.colab.kernel.accessAllowed ? 'block' : 'none';\n",
              "\n",
              "        async function convertToInteractive(key) {\n",
              "          const element = document.querySelector('#df-12e128c6-ad64-4ca5-9157-5fa0a93d26e8');\n",
              "          const dataTable =\n",
              "            await google.colab.kernel.invokeFunction('convertToInteractive',\n",
              "                                                     [key], {});\n",
              "          if (!dataTable) return;\n",
              "\n",
              "          const docLinkHtml = 'Like what you see? Visit the ' +\n",
              "            '<a target=\"_blank\" href=https://colab.research.google.com/notebooks/data_table.ipynb>data table notebook</a>'\n",
              "            + ' to learn more about interactive tables.';\n",
              "          element.innerHTML = '';\n",
              "          dataTable['output_type'] = 'display_data';\n",
              "          await google.colab.output.renderOutput(dataTable, element);\n",
              "          const docLink = document.createElement('div');\n",
              "          docLink.innerHTML = docLinkHtml;\n",
              "          element.appendChild(docLink);\n",
              "        }\n",
              "      </script>\n",
              "    </div>\n",
              "  </div>\n",
              "  "
            ]
          },
          "metadata": {},
          "execution_count": 57
        }
      ]
    },
    {
      "cell_type": "code",
      "metadata": {
        "colab": {
          "base_uri": "https://localhost:8080/",
          "height": 320
        },
        "id": "hWMKxd0v0FwL",
        "outputId": "d97ba342-9df8-4d6a-f908-4a1165e81452"
      },
      "source": [
        "DATA = data_12\n",
        "clase = 'Violento'\n",
        "plt.figure(figsize=(15, 5), facecolor='white')\n",
        "pd.plotting.parallel_coordinates(DATA, class_column=clase, lw=5, alpha=0.01, colormap='Set1')\n",
        "plt.legend(loc='best')\n",
        "plt.show()"
      ],
      "execution_count": 58,
      "outputs": [
        {
          "output_type": "display_data",
          "data": {
            "text/plain": [
              "<Figure size 1080x360 with 1 Axes>"
            ],
            "image/png": "[encoded data removed]"
          },
          "metadata": {}
        }
      ]
    },
    {
      "cell_type": "markdown",
      "metadata": {
        "id": "iYOmsiqS_zoV"
      },
      "source": [
        "### Referencias\n",
        "https://medium.com/@benjamin.phillips22/simple-regression-with-neural-networks-in-pytorch-313f06910379\n"
      ]
    }
  ]
}
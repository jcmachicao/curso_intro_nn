{
  "nbformat": 4,
  "nbformat_minor": 0,
  "metadata": {
    "colab": {
      "name": "nn_demo.ipynb",
      "provenance": [],
      "collapsed_sections": [],
      "mount_file_id": "1tVcNa9rp47xUnnHCjmHnsE2XuLLwPDiz",
      "authorship_tag": "ABX9TyPh3iAVNmxxrYHi0iHpfiFo",
      "include_colab_link": true
    },
    "kernelspec": {
      "name": "python3",
      "display_name": "Python 3"
    },
    "language_info": {
      "name": "python"
    }
  },
  "cells": [
    {
      "cell_type": "markdown",
      "metadata": {
        "id": "view-in-github",
        "colab_type": "text"
      },
      "source": [
        "<a href=\"https://colab.research.google.com/github/jcmachicao/curso_intro_nn/blob/main/nn_demo.ipynb\" target=\"_parent\"><img src=\"https://colab.research.google.com/assets/colab-badge.svg\" alt=\"Open In Colab\"/></a>"
      ]
    },
    {
      "cell_type": "markdown",
      "metadata": {
        "id": "M4lelAYDK4ac"
      },
      "source": [
        "## 1. Librerías"
      ]
    },
    {
      "cell_type": "code",
      "metadata": {
        "id": "kklu-BHHYm1R"
      },
      "source": [
        "import pandas as pd\n",
        "import numpy as np\n",
        "import matplotlib.pyplot as plt"
      ],
      "execution_count": 1,
      "outputs": []
    },
    {
      "cell_type": "markdown",
      "metadata": {
        "id": "W4GCgfBjLASI"
      },
      "source": [
        "## 2. Data: Carga y Preparación"
      ]
    },
    {
      "cell_type": "code",
      "metadata": {
        "id": "hhwrT3-_YusY"
      },
      "source": [
        "ruta = 'drive/My Drive/2020 Cursos/tutoriales_nn/'\n",
        "data = pd.read_excel(ruta + 'demo_data.xlsx', sheet_name='regresion')"
      ],
      "execution_count": 4,
      "outputs": []
    },
    {
      "cell_type": "code",
      "metadata": {
        "colab": {
          "base_uri": "https://localhost:8080/",
          "height": 143
        },
        "id": "OEcb-jUYZF9P",
        "outputId": "7e1143e1-2a7b-4a6a-9edc-4a5994fe2d88"
      },
      "source": [
        "data.head(3)"
      ],
      "execution_count": 7,
      "outputs": [
        {
          "output_type": "execute_result",
          "data": {
            "text/html": [
              "<div>\n",
              "<style scoped>\n",
              "    .dataframe tbody tr th:only-of-type {\n",
              "        vertical-align: middle;\n",
              "    }\n",
              "\n",
              "    .dataframe tbody tr th {\n",
              "        vertical-align: top;\n",
              "    }\n",
              "\n",
              "    .dataframe thead th {\n",
              "        text-align: right;\n",
              "    }\n",
              "</style>\n",
              "<table border=\"1\" class=\"dataframe\">\n",
              "  <thead>\n",
              "    <tr style=\"text-align: right;\">\n",
              "      <th></th>\n",
              "      <th>X1</th>\n",
              "      <th>X2</th>\n",
              "      <th>X3</th>\n",
              "      <th>Y</th>\n",
              "    </tr>\n",
              "  </thead>\n",
              "  <tbody>\n",
              "    <tr>\n",
              "      <th>0</th>\n",
              "      <td>0.34</td>\n",
              "      <td>0.15</td>\n",
              "      <td>0.40</td>\n",
              "      <td>0.381773</td>\n",
              "    </tr>\n",
              "    <tr>\n",
              "      <th>1</th>\n",
              "      <td>0.20</td>\n",
              "      <td>0.88</td>\n",
              "      <td>0.87</td>\n",
              "      <td>0.428465</td>\n",
              "    </tr>\n",
              "    <tr>\n",
              "      <th>2</th>\n",
              "      <td>0.08</td>\n",
              "      <td>0.33</td>\n",
              "      <td>0.55</td>\n",
              "      <td>0.144339</td>\n",
              "    </tr>\n",
              "  </tbody>\n",
              "</table>\n",
              "</div>"
            ],
            "text/plain": [
              "     X1    X2    X3         Y\n",
              "0  0.34  0.15  0.40  0.381773\n",
              "1  0.20  0.88  0.87  0.428465\n",
              "2  0.08  0.33  0.55  0.144339"
            ]
          },
          "metadata": {},
          "execution_count": 7
        }
      ]
    },
    {
      "cell_type": "code",
      "metadata": {
        "colab": {
          "base_uri": "https://localhost:8080/",
          "height": 498
        },
        "id": "ftye5K7QZpYA",
        "outputId": "41c726b7-c93d-4751-ead6-d4974d860609"
      },
      "source": [
        "plt.figure(figsize=(8,8))\n",
        "plt.scatter(data.X1, data.X2, s=data.Y*50)\n",
        "plt.grid(True)\n",
        "plt.xlabel('X1')\n",
        "plt.ylabel('X2')\n",
        "plt.show()"
      ],
      "execution_count": 9,
      "outputs": [
        {
          "output_type": "display_data",
          "data": {
            "image/png": "[encoded data removed]",
            "text/plain": [
              "<Figure size 576x576 with 1 Axes>"
            ]
          },
          "metadata": {
            "needs_background": "light"
          }
        }
      ]
    },
    {
      "cell_type": "code",
      "metadata": {
        "colab": {
          "base_uri": "https://localhost:8080/"
        },
        "id": "iEfgGpftaspI",
        "outputId": "8fa67fd3-b60c-42b0-ad67-321f3096c511"
      },
      "source": [
        "X = np.array(data[['X1', 'X2', 'X3']], dtype='float64')\n",
        "y = np.array(data.Y, dtype='float32')/data.Y.max()\n",
        "X.shape, y.shape"
      ],
      "execution_count": 11,
      "outputs": [
        {
          "output_type": "execute_result",
          "data": {
            "text/plain": [
              "((101, 3), (101,))"
            ]
          },
          "metadata": {},
          "execution_count": 11
        }
      ]
    },
    {
      "cell_type": "markdown",
      "metadata": {
        "id": "aEPLalSJyxEu"
      },
      "source": [
        "## 3. Regresión"
      ]
    },
    {
      "cell_type": "code",
      "metadata": {
        "id": "toYqNruFbqLw"
      },
      "source": [
        "import torch\n",
        "from torch import optim  \n",
        "from torch import nn\n",
        "#import torch.nn.functional as F "
      ],
      "execution_count": 15,
      "outputs": []
    },
    {
      "cell_type": "code",
      "metadata": {
        "colab": {
          "base_uri": "https://localhost:8080/"
        },
        "id": "HNRRq14Mbcaw",
        "outputId": "bc1662f7-1539-4b99-b411-3b9e8a120a43"
      },
      "source": [
        "X_in = torch.from_numpy(np.array(X))\n",
        "y_in = torch.from_numpy(np.array(y).reshape(-1,1))\n",
        "X_in.shape, y_in.shape"
      ],
      "execution_count": 16,
      "outputs": [
        {
          "output_type": "execute_result",
          "data": {
            "text/plain": [
              "(torch.Size([101, 3]), torch.Size([101, 1]))"
            ]
          },
          "metadata": {},
          "execution_count": 16
        }
      ]
    },
    {
      "cell_type": "markdown",
      "metadata": {
        "id": "kOcGfTq5XewF"
      },
      "source": [
        "## Arquitectura de Red"
      ]
    },
    {
      "cell_type": "code",
      "metadata": {
        "id": "MKNZUmpucMcQ"
      },
      "source": [
        "class MiRed(nn.Module):\n",
        "  def __init__(self):\n",
        "    super(MiRed, self).__init__()\n",
        "    self.fc1 = torch.nn.Linear(3, 128)\n",
        "    self.fc2 = torch.nn.Linear(128, 16)\n",
        "    self.fc3 = torch.nn.Linear(16, 1)\n",
        "    self.relu = nn.ReLU()\n",
        "\n",
        "  def forward(self, inputs):\n",
        "    x = torch.relu(self.fc1(inputs))\n",
        "    x = torch.relu(self.fc2(x))\n",
        "    x = self.fc3(x)\n",
        "    return x"
      ],
      "execution_count": 144,
      "outputs": []
    },
    {
      "cell_type": "code",
      "metadata": {
        "id": "e16LaHfMdAsg"
      },
      "source": [
        "learning_rate = 0.001\n",
        "ciclos = 5\n",
        "num_epochs = 300"
      ],
      "execution_count": 146,
      "outputs": []
    },
    {
      "cell_type": "code",
      "metadata": {
        "id": "j6ZceRX7dL2Y"
      },
      "source": [
        "model = MiRed()\n",
        "criterion = nn.MSELoss()\n",
        "optimizer = optim.Adam(model.parameters(), lr=learning_rate)"
      ],
      "execution_count": 165,
      "outputs": []
    },
    {
      "cell_type": "code",
      "metadata": {
        "id": "dtzl2TWCdS4n"
      },
      "source": [
        "preds = []\n",
        "\n",
        "for ciclo in range(ciclos):\n",
        "  \n",
        "  for epoch in range(num_epochs):\n",
        "    optimizer.zero_grad()\n",
        "    y_pred = model(X_in.float())\n",
        "    loss = criterion(y_pred, y_in)\n",
        "    loss.backward()\n",
        "    optimizer.step()\n",
        "  \n",
        "  preds.append(y_pred.detach())"
      ],
      "execution_count": 172,
      "outputs": []
    },
    {
      "cell_type": "code",
      "metadata": {
        "colab": {
          "base_uri": "https://localhost:8080/",
          "height": 211
        },
        "id": "3jShK4rrg3aw",
        "outputId": "0998b536-62ba-41e9-a94f-e00465e023a4"
      },
      "source": [
        "fig, ax = plt.subplots(1, 5, figsize=(24,4))\n",
        "\n",
        "for i in range(ciclos):\n",
        "  ax[i].scatter(y_in, preds[i], s=10)\n",
        "  ax[i].plot([0,1], [0,1], 'r:', lw=1)\n",
        "  ax[i].grid(True)\n",
        "  ax[i].set_xlabel(str((i+1)*num_epochs)+' iteraciones')\n",
        "  ax[i].set_xlim(0,0.1)\n",
        "  ax[i].set_ylim(0,0.1)\n",
        "\n",
        "plt.show()"
      ],
      "execution_count": 173,
      "outputs": [
        {
          "output_type": "display_data",
          "data": {
            "image/png": "[encoded data removed]",
            "text/plain": [
              "<Figure size 1728x288 with 5 Axes>"
            ]
          },
          "metadata": {
            "needs_background": "light"
          }
        }
      ]
    },
    {
      "cell_type": "code",
      "metadata": {
        "colab": {
          "base_uri": "https://localhost:8080/",
          "height": 483
        },
        "id": "R8U3ZVRcuxJd",
        "outputId": "37d35165-9990-4fa4-d752-cc3240327432"
      },
      "source": [
        "plt.figure(figsize=(8,8))\n",
        "plt.scatter(data.X1, data.X3, s=np.array(preds[-1])*1000, label='')\n",
        "plt.scatter(data.X1, data.X3, s=y_in*1000, marker='^')\n",
        "plt.grid(True)\n",
        "plt.show()"
      ],
      "execution_count": 174,
      "outputs": [
        {
          "output_type": "display_data",
          "data": {
            "image/png": "[encoded data removed]",
            "text/plain": [
              "<Figure size 576x576 with 1 Axes>"
            ]
          },
          "metadata": {
            "needs_background": "light"
          }
        }
      ]
    },
    {
      "cell_type": "code",
      "metadata": {
        "id": "__VpSC6GqGu7"
      },
      "source": [
        "torch.save(model.state_dict(), ruta + 'modelo_0.pth')"
      ],
      "execution_count": 175,
      "outputs": []
    },
    {
      "cell_type": "code",
      "metadata": {
        "id": "z_VmWp3tq-Wz"
      },
      "source": [
        "data_test = data.iloc[30:50, :]\n",
        "data_test"
      ],
      "execution_count": null,
      "outputs": []
    },
    {
      "cell_type": "code",
      "metadata": {
        "colab": {
          "base_uri": "https://localhost:8080/"
        },
        "id": "5vgPOhzex57j",
        "outputId": "72d2b087-f8bf-4304-b359-0252946ca1b1"
      },
      "source": [
        "X_tt = torch.from_numpy(np.array(data_test[['X1', 'X2', 'X3']]))\n",
        "y_orig = np.array(data_test.Y/max(data_test.Y)).reshape(-1,1)\n",
        "X_tt.shape, y_orig.shape"
      ],
      "execution_count": 176,
      "outputs": [
        {
          "output_type": "execute_result",
          "data": {
            "text/plain": [
              "(torch.Size([20, 3]), (20, 1))"
            ]
          },
          "metadata": {},
          "execution_count": 176
        }
      ]
    },
    {
      "cell_type": "code",
      "metadata": {
        "id": "QB4-_PZ4zetK"
      },
      "source": [
        "class MiRed(nn.Module):\n",
        "  def __init__(self):\n",
        "    super(MiRed, self).__init__()\n",
        "    self.fc1 = torch.nn.Linear(3, 128)\n",
        "    self.fc2 = torch.nn.Linear(128, 16)\n",
        "    self.fc3 = torch.nn.Linear(16, 1)\n",
        "    self.relu = nn.ReLU()\n",
        "\n",
        "  def forward(self, inputs):\n",
        "    x = torch.relu(self.fc1(inputs))\n",
        "    x = torch.relu(self.fc2(x))\n",
        "    x = self.fc3(x)\n",
        "    return x"
      ],
      "execution_count": 183,
      "outputs": []
    },
    {
      "cell_type": "code",
      "metadata": {
        "id": "KcZrDF6v9TtT"
      },
      "source": [
        "model1 = MiRed()"
      ],
      "execution_count": 184,
      "outputs": []
    },
    {
      "cell_type": "code",
      "metadata": {
        "colab": {
          "base_uri": "https://localhost:8080/"
        },
        "id": "pm9nLf19rN0L",
        "outputId": "dc436486-5d04-478d-9a67-87e973d6a6fe"
      },
      "source": [
        "modelo_load = ruta + 'modelo_0.pth'\n",
        "model1.load_state_dict(torch.load(modelo_load, map_location=torch.device('cpu')))"
      ],
      "execution_count": 185,
      "outputs": [
        {
          "output_type": "execute_result",
          "data": {
            "text/plain": [
              "<All keys matched successfully>"
            ]
          },
          "metadata": {},
          "execution_count": 185
        }
      ]
    },
    {
      "cell_type": "code",
      "metadata": {
        "id": "1-XPqmvEqquN"
      },
      "source": [
        "y_tt_pred = model1(X_tt.float()).detach().squeeze().numpy().reshape(-1,1)"
      ],
      "execution_count": 186,
      "outputs": []
    },
    {
      "cell_type": "code",
      "metadata": {
        "id": "8tmqAHTe2qz7"
      },
      "source": [
        "from sklearn.linear_model import LinearRegression\n",
        "from sklearn.metrics import mean_squared_error, r2_score"
      ],
      "execution_count": 187,
      "outputs": []
    },
    {
      "cell_type": "code",
      "metadata": {
        "id": "eg-B3N0t2ygU"
      },
      "source": [
        "lr = LinearRegression()\n",
        "lr.fit(y_tt_pred, y_orig)\n",
        "lr_pred = lr.predict(y_orig)"
      ],
      "execution_count": 188,
      "outputs": []
    },
    {
      "cell_type": "code",
      "metadata": {
        "colab": {
          "base_uri": "https://localhost:8080/"
        },
        "id": "TY0AHbPc6Ubq",
        "outputId": "5cfb2a40-abbd-46e0-c9ca-59915914ef54"
      },
      "source": [
        "mean_squared_error(y_orig, lr_pred), r2_score(y_orig, lr_pred)"
      ],
      "execution_count": 189,
      "outputs": [
        {
          "output_type": "execute_result",
          "data": {
            "text/plain": [
              "(1.1115374693507597e-10, 0.9999999976497752)"
            ]
          },
          "metadata": {},
          "execution_count": 189
        }
      ]
    },
    {
      "cell_type": "code",
      "metadata": {
        "colab": {
          "base_uri": "https://localhost:8080/",
          "height": 283
        },
        "id": "8Xvb4hJS69XT",
        "outputId": "f3504dde-7d38-4b77-fcda-ec4efb4a700e"
      },
      "source": [
        "plt.scatter(y_orig, y_tt_pred)"
      ],
      "execution_count": 190,
      "outputs": [
        {
          "output_type": "execute_result",
          "data": {
            "text/plain": [
              "<matplotlib.collections.PathCollection at 0x7fb03ad05c50>"
            ]
          },
          "metadata": {},
          "execution_count": 190
        },
        {
          "output_type": "display_data",
          "data": {
            "image/png": "[encoded data removed]",
            "text/plain": [
              "<Figure size 432x288 with 1 Axes>"
            ]
          },
          "metadata": {
            "needs_background": "light"
          }
        }
      ]
    }
  ]
}
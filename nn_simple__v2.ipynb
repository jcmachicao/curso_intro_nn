{
  "nbformat": 4,
  "nbformat_minor": 0,
  "metadata": {
    "colab": {
      "provenance": [],
      "mount_file_id": "https://github.com/jcmachicao/curso_intro_nn/blob/main/nn_simple__v2.ipynb",
      "authorship_tag": "ABX9TyOXv/DTOL3UEXlUVFIPEqkH",
      "include_colab_link": true
    },
    "kernelspec": {
      "name": "python3",
      "display_name": "Python 3"
    },
    "accelerator": "GPU"
  },
  "cells": [
    {
      "cell_type": "markdown",
      "metadata": {
        "id": "view-in-github",
        "colab_type": "text"
      },
      "source": [
        "<a href=\"https://colab.research.google.com/github/jcmachicao/curso_intro_nn/blob/main/nn_simple__v2.ipynb\" target=\"_parent\"><img src=\"https://colab.research.google.com/assets/colab-badge.svg\" alt=\"Open In Colab\"/></a>"
      ]
    },
    {
      "cell_type": "markdown",
      "metadata": {
        "id": "y-0NM5pn3Kyo"
      },
      "source": [
        "# **Introducción a Redes Neuronales**\n",
        "* Autor: José Carlos Machicao\n",
        "* Licencia: [GestioDinámica](http://www.gestiodinamica.com) 2020"
      ]
    },
    {
      "cell_type": "markdown",
      "metadata": {
        "id": "G4luqjK73TUj"
      },
      "source": [
        "[Tensorflow Playground](https://playground.tensorflow.org)"
      ]
    },
    {
      "cell_type": "code",
      "metadata": {
        "id": "wk9oQvf8YuqM"
      },
      "source": [
        "import torch\n",
        "import torch.nn as nn\n",
        "\n",
        "import pandas as pd\n",
        "import numpy as np\n",
        "import sklearn\n",
        "import matplotlib.pyplot as plt \n",
        "import os"
      ],
      "execution_count": 1,
      "outputs": []
    },
    {
      "cell_type": "code",
      "metadata": {
        "id": "LB2Q7Gqexi0x"
      },
      "source": [
        "from sklearn.preprocessing import MinMaxScaler, Normalizer"
      ],
      "execution_count": 2,
      "outputs": []
    },
    {
      "cell_type": "code",
      "metadata": {
        "id": "YZdtPvFwZluh"
      },
      "source": [
        "ruta = 'drive/My Drive/00 data/'\n",
        "os.listdir(ruta)"
      ],
      "execution_count": null,
      "outputs": []
    },
    {
      "cell_type": "code",
      "metadata": {
        "id": "nd37Ij5MZK8C",
        "colab": {
          "base_uri": "https://localhost:8080/",
          "height": 206
        },
        "outputId": "6a52f361-3652-4a2a-c444-719fbfbf7432"
      },
      "source": [
        "dataset = pd.read_excel(ruta + 'ActosViolentos.xlsx')\n",
        "dataset.head()"
      ],
      "execution_count": 5,
      "outputs": [
        {
          "output_type": "execute_result",
          "data": {
            "text/plain": [
              "   Edad  Hora Sexo Area  Ingreso     Violento\n",
              "0  Niño  17.0    M   A1      2.0  No Violento\n",
              "1  Niño   3.0    F   A3      4.0  No Violento\n",
              "2  Niño  19.0    F   A1      3.0  No Violento\n",
              "3  Niño  23.0    M   A1      2.0  No Violento\n",
              "4  Niño   7.0    F   A2      5.0     Violento"
            ],
            "text/html": [
              "\n",
              "  <div id=\"df-51b92672-adcb-4e57-8f63-0f510640f81a\">\n",
              "    <div class=\"colab-df-container\">\n",
              "      <div>\n",
              "<style scoped>\n",
              "    .dataframe tbody tr th:only-of-type {\n",
              "        vertical-align: middle;\n",
              "    }\n",
              "\n",
              "    .dataframe tbody tr th {\n",
              "        vertical-align: top;\n",
              "    }\n",
              "\n",
              "    .dataframe thead th {\n",
              "        text-align: right;\n",
              "    }\n",
              "</style>\n",
              "<table border=\"1\" class=\"dataframe\">\n",
              "  <thead>\n",
              "    <tr style=\"text-align: right;\">\n",
              "      <th></th>\n",
              "      <th>Edad</th>\n",
              "      <th>Hora</th>\n",
              "      <th>Sexo</th>\n",
              "      <th>Area</th>\n",
              "      <th>Ingreso</th>\n",
              "      <th>Violento</th>\n",
              "    </tr>\n",
              "  </thead>\n",
              "  <tbody>\n",
              "    <tr>\n",
              "      <th>0</th>\n",
              "      <td>Niño</td>\n",
              "      <td>17.0</td>\n",
              "      <td>M</td>\n",
              "      <td>A1</td>\n",
              "      <td>2.0</td>\n",
              "      <td>No Violento</td>\n",
              "    </tr>\n",
              "    <tr>\n",
              "      <th>1</th>\n",
              "      <td>Niño</td>\n",
              "      <td>3.0</td>\n",
              "      <td>F</td>\n",
              "      <td>A3</td>\n",
              "      <td>4.0</td>\n",
              "      <td>No Violento</td>\n",
              "    </tr>\n",
              "    <tr>\n",
              "      <th>2</th>\n",
              "      <td>Niño</td>\n",
              "      <td>19.0</td>\n",
              "      <td>F</td>\n",
              "      <td>A1</td>\n",
              "      <td>3.0</td>\n",
              "      <td>No Violento</td>\n",
              "    </tr>\n",
              "    <tr>\n",
              "      <th>3</th>\n",
              "      <td>Niño</td>\n",
              "      <td>23.0</td>\n",
              "      <td>M</td>\n",
              "      <td>A1</td>\n",
              "      <td>2.0</td>\n",
              "      <td>No Violento</td>\n",
              "    </tr>\n",
              "    <tr>\n",
              "      <th>4</th>\n",
              "      <td>Niño</td>\n",
              "      <td>7.0</td>\n",
              "      <td>F</td>\n",
              "      <td>A2</td>\n",
              "      <td>5.0</td>\n",
              "      <td>Violento</td>\n",
              "    </tr>\n",
              "  </tbody>\n",
              "</table>\n",
              "</div>\n",
              "      <button class=\"colab-df-convert\" onclick=\"convertToInteractive('df-51b92672-adcb-4e57-8f63-0f510640f81a')\"\n",
              "              title=\"Convert this dataframe to an interactive table.\"\n",
              "              style=\"display:none;\">\n",
              "        \n",
              "  <svg xmlns=\"http://www.w3.org/2000/svg\" height=\"24px\"viewBox=\"0 0 24 24\"\n",
              "       width=\"24px\">\n",
              "    <path d=\"M0 0h24v24H0V0z\" fill=\"none\"/>\n",
              "    <path d=\"M18.56 5.44l.94 2.06.94-2.06 2.06-.94-2.06-.94-.94-2.06-.94 2.06-2.06.94zm-11 1L8.5 8.5l.94-2.06 2.06-.94-2.06-.94L8.5 2.5l-.94 2.06-2.06.94zm10 10l.94 2.06.94-2.06 2.06-.94-2.06-.94-.94-2.06-.94 2.06-2.06.94z\"/><path d=\"M17.41 7.96l-1.37-1.37c-.4-.4-.92-.59-1.43-.59-.52 0-1.04.2-1.43.59L10.3 9.45l-7.72 7.72c-.78.78-.78 2.05 0 2.83L4 21.41c.39.39.9.59 1.41.59.51 0 1.02-.2 1.41-.59l7.78-7.78 2.81-2.81c.8-.78.8-2.07 0-2.86zM5.41 20L4 18.59l7.72-7.72 1.47 1.35L5.41 20z\"/>\n",
              "  </svg>\n",
              "      </button>\n",
              "      \n",
              "  <style>\n",
              "    .colab-df-container {\n",
              "      display:flex;\n",
              "      flex-wrap:wrap;\n",
              "      gap: 12px;\n",
              "    }\n",
              "\n",
              "    .colab-df-convert {\n",
              "      background-color: #E8F0FE;\n",
              "      border: none;\n",
              "      border-radius: 50%;\n",
              "      cursor: pointer;\n",
              "      display: none;\n",
              "      fill: #1967D2;\n",
              "      height: 32px;\n",
              "      padding: 0 0 0 0;\n",
              "      width: 32px;\n",
              "    }\n",
              "\n",
              "    .colab-df-convert:hover {\n",
              "      background-color: #E2EBFA;\n",
              "      box-shadow: 0px 1px 2px rgba(60, 64, 67, 0.3), 0px 1px 3px 1px rgba(60, 64, 67, 0.15);\n",
              "      fill: #174EA6;\n",
              "    }\n",
              "\n",
              "    [theme=dark] .colab-df-convert {\n",
              "      background-color: #3B4455;\n",
              "      fill: #D2E3FC;\n",
              "    }\n",
              "\n",
              "    [theme=dark] .colab-df-convert:hover {\n",
              "      background-color: #434B5C;\n",
              "      box-shadow: 0px 1px 3px 1px rgba(0, 0, 0, 0.15);\n",
              "      filter: drop-shadow(0px 1px 2px rgba(0, 0, 0, 0.3));\n",
              "      fill: #FFFFFF;\n",
              "    }\n",
              "  </style>\n",
              "\n",
              "      <script>\n",
              "        const buttonEl =\n",
              "          document.querySelector('#df-51b92672-adcb-4e57-8f63-0f510640f81a button.colab-df-convert');\n",
              "        buttonEl.style.display =\n",
              "          google.colab.kernel.accessAllowed ? 'block' : 'none';\n",
              "\n",
              "        async function convertToInteractive(key) {\n",
              "          const element = document.querySelector('#df-51b92672-adcb-4e57-8f63-0f510640f81a');\n",
              "          const dataTable =\n",
              "            await google.colab.kernel.invokeFunction('convertToInteractive',\n",
              "                                                     [key], {});\n",
              "          if (!dataTable) return;\n",
              "\n",
              "          const docLinkHtml = 'Like what you see? Visit the ' +\n",
              "            '<a target=\"_blank\" href=https://colab.research.google.com/notebooks/data_table.ipynb>data table notebook</a>'\n",
              "            + ' to learn more about interactive tables.';\n",
              "          element.innerHTML = '';\n",
              "          dataTable['output_type'] = 'display_data';\n",
              "          await google.colab.output.renderOutput(dataTable, element);\n",
              "          const docLink = document.createElement('div');\n",
              "          docLink.innerHTML = docLinkHtml;\n",
              "          element.appendChild(docLink);\n",
              "        }\n",
              "      </script>\n",
              "    </div>\n",
              "  </div>\n",
              "  "
            ]
          },
          "metadata": {},
          "execution_count": 5
        }
      ]
    },
    {
      "cell_type": "code",
      "source": [
        "dsd = pd.get_dummies(dataset, drop_first=True)\n",
        "dsd"
      ],
      "metadata": {
        "id": "ZSAm2yC5WEWm",
        "outputId": "d84a44e4-d1c5-434e-81b9-de28f82ace17",
        "colab": {
          "base_uri": "https://localhost:8080/",
          "height": 424
        }
      },
      "execution_count": 6,
      "outputs": [
        {
          "output_type": "execute_result",
          "data": {
            "text/plain": [
              "     Hora  Ingreso  Edad_AdultoMayor  Edad_Joven  Edad_Niño  Sexo_M  Area_A2  \\\n",
              "0    17.0      2.0                 0           0          1       1        0   \n",
              "1     3.0      4.0                 0           0          1       0        0   \n",
              "2    19.0      3.0                 0           0          1       0        0   \n",
              "3    23.0      2.0                 0           0          1       1        0   \n",
              "4     7.0      5.0                 0           0          1       0        1   \n",
              "..    ...      ...               ...         ...        ...     ...      ...   \n",
              "895   0.0      3.0                 0           1          0       0        0   \n",
              "896   7.0      2.0                 0           0          1       1        0   \n",
              "897  15.0      3.0                 1           0          0       1        0   \n",
              "898   8.0      3.0                 0           1          0       1        0   \n",
              "899  19.0      1.0                 0           0          0       0        1   \n",
              "\n",
              "     Area_A3  Area_A4  Violento_Violento  \n",
              "0          0        0                  0  \n",
              "1          1        0                  0  \n",
              "2          0        0                  0  \n",
              "3          0        0                  0  \n",
              "4          0        0                  1  \n",
              "..       ...      ...                ...  \n",
              "895        0        0                  0  \n",
              "896        1        0                  0  \n",
              "897        0        1                  0  \n",
              "898        0        0                  0  \n",
              "899        0        0                  0  \n",
              "\n",
              "[900 rows x 10 columns]"
            ],
            "text/html": [
              "\n",
              "  <div id=\"df-d13cd367-2638-4fc2-8740-cd24036214ba\">\n",
              "    <div class=\"colab-df-container\">\n",
              "      <div>\n",
              "<style scoped>\n",
              "    .dataframe tbody tr th:only-of-type {\n",
              "        vertical-align: middle;\n",
              "    }\n",
              "\n",
              "    .dataframe tbody tr th {\n",
              "        vertical-align: top;\n",
              "    }\n",
              "\n",
              "    .dataframe thead th {\n",
              "        text-align: right;\n",
              "    }\n",
              "</style>\n",
              "<table border=\"1\" class=\"dataframe\">\n",
              "  <thead>\n",
              "    <tr style=\"text-align: right;\">\n",
              "      <th></th>\n",
              "      <th>Hora</th>\n",
              "      <th>Ingreso</th>\n",
              "      <th>Edad_AdultoMayor</th>\n",
              "      <th>Edad_Joven</th>\n",
              "      <th>Edad_Niño</th>\n",
              "      <th>Sexo_M</th>\n",
              "      <th>Area_A2</th>\n",
              "      <th>Area_A3</th>\n",
              "      <th>Area_A4</th>\n",
              "      <th>Violento_Violento</th>\n",
              "    </tr>\n",
              "  </thead>\n",
              "  <tbody>\n",
              "    <tr>\n",
              "      <th>0</th>\n",
              "      <td>17.0</td>\n",
              "      <td>2.0</td>\n",
              "      <td>0</td>\n",
              "      <td>0</td>\n",
              "      <td>1</td>\n",
              "      <td>1</td>\n",
              "      <td>0</td>\n",
              "      <td>0</td>\n",
              "      <td>0</td>\n",
              "      <td>0</td>\n",
              "    </tr>\n",
              "    <tr>\n",
              "      <th>1</th>\n",
              "      <td>3.0</td>\n",
              "      <td>4.0</td>\n",
              "      <td>0</td>\n",
              "      <td>0</td>\n",
              "      <td>1</td>\n",
              "      <td>0</td>\n",
              "      <td>0</td>\n",
              "      <td>1</td>\n",
              "      <td>0</td>\n",
              "      <td>0</td>\n",
              "    </tr>\n",
              "    <tr>\n",
              "      <th>2</th>\n",
              "      <td>19.0</td>\n",
              "      <td>3.0</td>\n",
              "      <td>0</td>\n",
              "      <td>0</td>\n",
              "      <td>1</td>\n",
              "      <td>0</td>\n",
              "      <td>0</td>\n",
              "      <td>0</td>\n",
              "      <td>0</td>\n",
              "      <td>0</td>\n",
              "    </tr>\n",
              "    <tr>\n",
              "      <th>3</th>\n",
              "      <td>23.0</td>\n",
              "      <td>2.0</td>\n",
              "      <td>0</td>\n",
              "      <td>0</td>\n",
              "      <td>1</td>\n",
              "      <td>1</td>\n",
              "      <td>0</td>\n",
              "      <td>0</td>\n",
              "      <td>0</td>\n",
              "      <td>0</td>\n",
              "    </tr>\n",
              "    <tr>\n",
              "      <th>4</th>\n",
              "      <td>7.0</td>\n",
              "      <td>5.0</td>\n",
              "      <td>0</td>\n",
              "      <td>0</td>\n",
              "      <td>1</td>\n",
              "      <td>0</td>\n",
              "      <td>1</td>\n",
              "      <td>0</td>\n",
              "      <td>0</td>\n",
              "      <td>1</td>\n",
              "    </tr>\n",
              "    <tr>\n",
              "      <th>...</th>\n",
              "      <td>...</td>\n",
              "      <td>...</td>\n",
              "      <td>...</td>\n",
              "      <td>...</td>\n",
              "      <td>...</td>\n",
              "      <td>...</td>\n",
              "      <td>...</td>\n",
              "      <td>...</td>\n",
              "      <td>...</td>\n",
              "      <td>...</td>\n",
              "    </tr>\n",
              "    <tr>\n",
              "      <th>895</th>\n",
              "      <td>0.0</td>\n",
              "      <td>3.0</td>\n",
              "      <td>0</td>\n",
              "      <td>1</td>\n",
              "      <td>0</td>\n",
              "      <td>0</td>\n",
              "      <td>0</td>\n",
              "      <td>0</td>\n",
              "      <td>0</td>\n",
              "      <td>0</td>\n",
              "    </tr>\n",
              "    <tr>\n",
              "      <th>896</th>\n",
              "      <td>7.0</td>\n",
              "      <td>2.0</td>\n",
              "      <td>0</td>\n",
              "      <td>0</td>\n",
              "      <td>1</td>\n",
              "      <td>1</td>\n",
              "      <td>0</td>\n",
              "      <td>1</td>\n",
              "      <td>0</td>\n",
              "      <td>0</td>\n",
              "    </tr>\n",
              "    <tr>\n",
              "      <th>897</th>\n",
              "      <td>15.0</td>\n",
              "      <td>3.0</td>\n",
              "      <td>1</td>\n",
              "      <td>0</td>\n",
              "      <td>0</td>\n",
              "      <td>1</td>\n",
              "      <td>0</td>\n",
              "      <td>0</td>\n",
              "      <td>1</td>\n",
              "      <td>0</td>\n",
              "    </tr>\n",
              "    <tr>\n",
              "      <th>898</th>\n",
              "      <td>8.0</td>\n",
              "      <td>3.0</td>\n",
              "      <td>0</td>\n",
              "      <td>1</td>\n",
              "      <td>0</td>\n",
              "      <td>1</td>\n",
              "      <td>0</td>\n",
              "      <td>0</td>\n",
              "      <td>0</td>\n",
              "      <td>0</td>\n",
              "    </tr>\n",
              "    <tr>\n",
              "      <th>899</th>\n",
              "      <td>19.0</td>\n",
              "      <td>1.0</td>\n",
              "      <td>0</td>\n",
              "      <td>0</td>\n",
              "      <td>0</td>\n",
              "      <td>0</td>\n",
              "      <td>1</td>\n",
              "      <td>0</td>\n",
              "      <td>0</td>\n",
              "      <td>0</td>\n",
              "    </tr>\n",
              "  </tbody>\n",
              "</table>\n",
              "<p>900 rows × 10 columns</p>\n",
              "</div>\n",
              "      <button class=\"colab-df-convert\" onclick=\"convertToInteractive('df-d13cd367-2638-4fc2-8740-cd24036214ba')\"\n",
              "              title=\"Convert this dataframe to an interactive table.\"\n",
              "              style=\"display:none;\">\n",
              "        \n",
              "  <svg xmlns=\"http://www.w3.org/2000/svg\" height=\"24px\"viewBox=\"0 0 24 24\"\n",
              "       width=\"24px\">\n",
              "    <path d=\"M0 0h24v24H0V0z\" fill=\"none\"/>\n",
              "    <path d=\"M18.56 5.44l.94 2.06.94-2.06 2.06-.94-2.06-.94-.94-2.06-.94 2.06-2.06.94zm-11 1L8.5 8.5l.94-2.06 2.06-.94-2.06-.94L8.5 2.5l-.94 2.06-2.06.94zm10 10l.94 2.06.94-2.06 2.06-.94-2.06-.94-.94-2.06-.94 2.06-2.06.94z\"/><path d=\"M17.41 7.96l-1.37-1.37c-.4-.4-.92-.59-1.43-.59-.52 0-1.04.2-1.43.59L10.3 9.45l-7.72 7.72c-.78.78-.78 2.05 0 2.83L4 21.41c.39.39.9.59 1.41.59.51 0 1.02-.2 1.41-.59l7.78-7.78 2.81-2.81c.8-.78.8-2.07 0-2.86zM5.41 20L4 18.59l7.72-7.72 1.47 1.35L5.41 20z\"/>\n",
              "  </svg>\n",
              "      </button>\n",
              "      \n",
              "  <style>\n",
              "    .colab-df-container {\n",
              "      display:flex;\n",
              "      flex-wrap:wrap;\n",
              "      gap: 12px;\n",
              "    }\n",
              "\n",
              "    .colab-df-convert {\n",
              "      background-color: #E8F0FE;\n",
              "      border: none;\n",
              "      border-radius: 50%;\n",
              "      cursor: pointer;\n",
              "      display: none;\n",
              "      fill: #1967D2;\n",
              "      height: 32px;\n",
              "      padding: 0 0 0 0;\n",
              "      width: 32px;\n",
              "    }\n",
              "\n",
              "    .colab-df-convert:hover {\n",
              "      background-color: #E2EBFA;\n",
              "      box-shadow: 0px 1px 2px rgba(60, 64, 67, 0.3), 0px 1px 3px 1px rgba(60, 64, 67, 0.15);\n",
              "      fill: #174EA6;\n",
              "    }\n",
              "\n",
              "    [theme=dark] .colab-df-convert {\n",
              "      background-color: #3B4455;\n",
              "      fill: #D2E3FC;\n",
              "    }\n",
              "\n",
              "    [theme=dark] .colab-df-convert:hover {\n",
              "      background-color: #434B5C;\n",
              "      box-shadow: 0px 1px 3px 1px rgba(0, 0, 0, 0.15);\n",
              "      filter: drop-shadow(0px 1px 2px rgba(0, 0, 0, 0.3));\n",
              "      fill: #FFFFFF;\n",
              "    }\n",
              "  </style>\n",
              "\n",
              "      <script>\n",
              "        const buttonEl =\n",
              "          document.querySelector('#df-d13cd367-2638-4fc2-8740-cd24036214ba button.colab-df-convert');\n",
              "        buttonEl.style.display =\n",
              "          google.colab.kernel.accessAllowed ? 'block' : 'none';\n",
              "\n",
              "        async function convertToInteractive(key) {\n",
              "          const element = document.querySelector('#df-d13cd367-2638-4fc2-8740-cd24036214ba');\n",
              "          const dataTable =\n",
              "            await google.colab.kernel.invokeFunction('convertToInteractive',\n",
              "                                                     [key], {});\n",
              "          if (!dataTable) return;\n",
              "\n",
              "          const docLinkHtml = 'Like what you see? Visit the ' +\n",
              "            '<a target=\"_blank\" href=https://colab.research.google.com/notebooks/data_table.ipynb>data table notebook</a>'\n",
              "            + ' to learn more about interactive tables.';\n",
              "          element.innerHTML = '';\n",
              "          dataTable['output_type'] = 'display_data';\n",
              "          await google.colab.output.renderOutput(dataTable, element);\n",
              "          const docLink = document.createElement('div');\n",
              "          docLink.innerHTML = docLinkHtml;\n",
              "          element.appendChild(docLink);\n",
              "        }\n",
              "      </script>\n",
              "    </div>\n",
              "  </div>\n",
              "  "
            ]
          },
          "metadata": {},
          "execution_count": 6
        }
      ]
    },
    {
      "cell_type": "code",
      "source": [
        "data = dsd"
      ],
      "metadata": {
        "id": "lpmQ3nXFYQKF"
      },
      "execution_count": 7,
      "outputs": []
    },
    {
      "cell_type": "code",
      "source": [
        "dataX = data.drop(['Violento_Violento'], axis=1)\n",
        "datay = data['Violento_Violento']"
      ],
      "metadata": {
        "id": "3wLQEd00ZPcE"
      },
      "execution_count": 8,
      "outputs": []
    },
    {
      "cell_type": "code",
      "metadata": {
        "colab": {
          "base_uri": "https://localhost:8080/"
        },
        "id": "3KnWyPlbxdbN",
        "outputId": "03c7109b-51bb-4116-fd1a-5a7ab5788126"
      },
      "source": [
        "scl = MinMaxScaler()\n",
        "scl.fit(dataX)\n",
        "dataXf = scl.transform(dataX)\n",
        "dataXf.shape, type(dataXf)"
      ],
      "execution_count": 9,
      "outputs": [
        {
          "output_type": "execute_result",
          "data": {
            "text/plain": [
              "((900, 9), numpy.ndarray)"
            ]
          },
          "metadata": {},
          "execution_count": 9
        }
      ]
    },
    {
      "cell_type": "code",
      "metadata": {
        "id": "_KQmGkVdiUnW"
      },
      "source": [
        "X_np = dataXf.astype(np.float32)\n",
        "y_np = np.array(datay).reshape(-1, 1).astype(np.float32)"
      ],
      "execution_count": 10,
      "outputs": []
    },
    {
      "cell_type": "code",
      "metadata": {
        "id": "pGUlGFsqhDsx"
      },
      "source": [
        "X = torch.from_numpy(X_np)\n",
        "y = torch.from_numpy(y_np.reshape(-1, 1))"
      ],
      "execution_count": 11,
      "outputs": []
    },
    {
      "cell_type": "code",
      "metadata": {
        "id": "6XSjGejFwYup",
        "colab": {
          "base_uri": "https://localhost:8080/"
        },
        "outputId": "649e7278-b7ff-4ec4-f1ec-137fc393ed0d"
      },
      "source": [
        "X.shape, y.shape"
      ],
      "execution_count": 12,
      "outputs": [
        {
          "output_type": "execute_result",
          "data": {
            "text/plain": [
              "(torch.Size([900, 9]), torch.Size([900, 1]))"
            ]
          },
          "metadata": {},
          "execution_count": 12
        }
      ]
    },
    {
      "cell_type": "code",
      "metadata": {
        "id": "jZTLZ3tF4Ufh",
        "colab": {
          "base_uri": "https://localhost:8080/"
        },
        "outputId": "3f6c8daf-5d98-4c0c-d405-960ed26465e6"
      },
      "source": [
        "torch.cuda.device_count(), torch.cuda.get_device_name(0)"
      ],
      "execution_count": 13,
      "outputs": [
        {
          "output_type": "execute_result",
          "data": {
            "text/plain": [
              "(1, 'Tesla T4')"
            ]
          },
          "metadata": {},
          "execution_count": 13
        }
      ]
    },
    {
      "cell_type": "code",
      "metadata": {
        "colab": {
          "base_uri": "https://localhost:8080/"
        },
        "id": "Yx1XMjMvK7Nz",
        "outputId": "74172eae-dab6-413e-a00e-8c2c432ce12d"
      },
      "source": [
        "X.shape"
      ],
      "execution_count": 14,
      "outputs": [
        {
          "output_type": "execute_result",
          "data": {
            "text/plain": [
              "torch.Size([900, 9])"
            ]
          },
          "metadata": {},
          "execution_count": 14
        }
      ]
    },
    {
      "cell_type": "code",
      "metadata": {
        "id": "eDvHpU6ypXmN"
      },
      "source": [
        "model = nn.Sequential(\n",
        "  nn.Linear(X.shape[1], 128),\n",
        "  nn.ReLU(),\n",
        "  nn.Linear(128, 64),\n",
        "  nn.ReLU(),\n",
        "  nn.Linear(64, 8),\n",
        "  nn.ReLU(),\n",
        "  nn.Linear(8, 1),\n",
        ")"
      ],
      "execution_count": 15,
      "outputs": []
    },
    {
      "cell_type": "code",
      "metadata": {
        "id": "KbqmryWt5YGB"
      },
      "source": [
        "model.cuda()\n",
        "X_g = X.cuda()\n",
        "y_g = y.cuda()"
      ],
      "execution_count": 16,
      "outputs": []
    },
    {
      "cell_type": "code",
      "metadata": {
        "id": "jP-F4UDU8j4e"
      },
      "source": [
        "optimizador = torch.optim.SGD(model.parameters(), lr=0.01, momentum=0)\n",
        "#criterio = torch.nn.CrossEntropyLoss().cuda()\n",
        "criterio = torch.nn.MSELoss()"
      ],
      "execution_count": 17,
      "outputs": []
    },
    {
      "cell_type": "code",
      "metadata": {
        "id": "u_G5cQABQNDz"
      },
      "source": [
        "errores = []\n",
        "nit = 0\n",
        "EPOCS = 10000"
      ],
      "execution_count": 18,
      "outputs": []
    },
    {
      "cell_type": "code",
      "metadata": {
        "id": "4-TCPnUJqN5s",
        "colab": {
          "base_uri": "https://localhost:8080/"
        },
        "outputId": "3c6721c6-ebb4-4b91-e69f-9c19f3c441df"
      },
      "source": [
        "preds = []\n",
        "nit += 1\n",
        "for epo in range(EPOCS):\n",
        "  optimizador.zero_grad()\n",
        "  y_pred = model(X_g)\n",
        "  loss = criterio(y_pred, y_g)\n",
        "  loss.backward()\n",
        "  optimizador.step()\n",
        "  if epo % 1000 == 0:\n",
        "    print(epo, loss.item())\n",
        "    errores.append([epo+nit*EPOCS, loss.item()])\n",
        "    pred = y_pred.cpu().detach().numpy()\n",
        "    preds.append(pred)"
      ],
      "execution_count": 43,
      "outputs": [
        {
          "output_type": "stream",
          "name": "stdout",
          "text": [
            "0 0.04861793667078018\n",
            "1000 0.050637826323509216\n",
            "2000 0.04931618273258209\n",
            "3000 0.051801107823848724\n",
            "4000 0.05713598430156708\n",
            "5000 0.056537214666604996\n",
            "6000 0.05338547006249428\n",
            "7000 0.0476081520318985\n",
            "8000 0.04849172756075859\n",
            "9000 0.04686136916279793\n"
          ]
        }
      ]
    },
    {
      "cell_type": "code",
      "metadata": {
        "colab": {
          "base_uri": "https://localhost:8080/",
          "height": 463
        },
        "id": "VbfArALMM7FF",
        "outputId": "8070cfb7-1dda-4bdb-d9eb-5622e8a3934a"
      },
      "source": [
        "#@title Gráfica\n",
        "plt.figure(figsize=(7,7), facecolor='lightgray')\n",
        "\n",
        "plt.plot(y_np, pred, 'bo', ms=3, label='Red Neuronal')\n",
        "plt.plot([-1,1], [-1, 1], 'b:', lw=4)\n",
        "\n",
        "plt.title('Resultado de Iteración Red Neuronal', fontsize=20)\n",
        "plt.legend(loc='best', fontsize=14)\n",
        "plt.xlabel('GestioDinámica 2020')\n",
        "plt.show()"
      ],
      "execution_count": 44,
      "outputs": [
        {
          "output_type": "display_data",
          "data": {
            "text/plain": [
              "<Figure size 504x504 with 1 Axes>"
            ],
            "image/png": "[encoded data removed]"
          },
          "metadata": {}
        }
      ]
    },
    {
      "cell_type": "code",
      "metadata": {
        "colab": {
          "base_uri": "https://localhost:8080/",
          "height": 320
        },
        "id": "rdTwQjuYCOyE",
        "outputId": "c74a62a1-bc6f-4199-ef51-fe34a5c9b3d8"
      },
      "source": [
        "err_df = pd.DataFrame(errores)\n",
        "plt.figure(figsize=(8,5), facecolor='white')\n",
        "plt.plot(err_df[0], err_df[1])\n",
        "plt.grid(True)\n",
        "plt.show()"
      ],
      "execution_count": 42,
      "outputs": [
        {
          "output_type": "display_data",
          "data": {
            "text/plain": [
              "<Figure size 576x360 with 1 Axes>"
            ],
            "image/png": "[encoded data removed]"
          },
          "metadata": {}
        }
      ]
    },
    {
      "cell_type": "code",
      "metadata": {
        "id": "36yHZzEROsDq",
        "colab": {
          "base_uri": "https://localhost:8080/"
        },
        "outputId": "cf997c44-7be1-4a61-e51d-394df4626d1f"
      },
      "source": [
        "from sklearn.linear_model import LinearRegression\n",
        "from sklearn.naive_bayes import GaussianNB\n",
        "from sklearn.linear_model import LogisticRegression\n",
        "lr = LogisticRegression()\n",
        "mlm = lr.fit(X_np, y_np)\n",
        "nb = GaussianNB()\n",
        "mnb = nb.fit(X_np, y_np)\n",
        "lreg = LinearRegression()\n",
        "mlreg = lreg.fit(X_np, y_np)\n",
        "pred_lm = mlm.predict(X_np)\n",
        "pred_nb = mnb.predict(X_np)\n",
        "pred_lrm = lreg.predict(X_np)\n",
        "len(X_np), len(pred_lm)"
      ],
      "execution_count": null,
      "outputs": [
        {
          "output_type": "stream",
          "name": "stderr",
          "text": [
            "/usr/local/lib/python3.7/dist-packages/sklearn/utils/validation.py:993: DataConversionWarning: A column-vector y was passed when a 1d array was expected. Please change the shape of y to (n_samples, ), for example using ravel().\n",
            "  y = column_or_1d(y, warn=True)\n",
            "/usr/local/lib/python3.7/dist-packages/sklearn/utils/validation.py:993: DataConversionWarning: A column-vector y was passed when a 1d array was expected. Please change the shape of y to (n_samples, ), for example using ravel().\n",
            "  y = column_or_1d(y, warn=True)\n"
          ]
        },
        {
          "output_type": "execute_result",
          "data": {
            "text/plain": [
              "(900, 900)"
            ]
          },
          "metadata": {},
          "execution_count": 60
        }
      ]
    },
    {
      "cell_type": "code",
      "metadata": {
        "id": "c4zPyndzQLdO",
        "colab": {
          "base_uri": "https://localhost:8080/",
          "height": 614
        },
        "outputId": "b832f473-8ace-4d16-cd7e-dde2c77a7a1e"
      },
      "source": [
        "#@title Gráfica\n",
        "plt.figure(figsize=(10,10), facecolor='lightgray')\n",
        "\n",
        "#plt.plot(y_np, pred, 'bo', ms=8, label='Red Neuronal')\n",
        "plt.plot(y_np, pred_nb, 'go', ms=8, label='Naive Bayes')\n",
        "plt.plot(y_np, pred_lm, 'ro', ms=8, label='Regresión Logística')\n",
        "plt.plot(y_np, pred_lrm, 'bo', ms=8, label='Regresión Lineal')\n",
        "plt.plot([-1,1], [-1, 1], 'b:', lw=4)\n",
        "\n",
        "plt.title('Comparación entre Modelos Predictivos', fontsize=20)\n",
        "plt.legend(loc='best', fontsize=14)\n",
        "plt.text(1,1, 'GestioDinámica 2020')\n",
        "plt.show()"
      ],
      "execution_count": null,
      "outputs": [
        {
          "output_type": "display_data",
          "data": {
            "text/plain": [
              "<Figure size 720x720 with 1 Axes>"
            ],
            "image/png": "[encoded data removed]"
          },
          "metadata": {}
        }
      ]
    },
    {
      "cell_type": "code",
      "metadata": {
        "id": "ljenPE0Oz-o2"
      },
      "source": [
        "data_test = X[0:10].cuda()"
      ],
      "execution_count": null,
      "outputs": []
    },
    {
      "cell_type": "code",
      "metadata": {
        "colab": {
          "base_uri": "https://localhost:8080/"
        },
        "id": "b_MAY8DcSnhZ",
        "outputId": "dc41953f-3209-48c1-eadb-e859da6557e1"
      },
      "source": [
        "data_test"
      ],
      "execution_count": null,
      "outputs": [
        {
          "output_type": "execute_result",
          "data": {
            "text/plain": [
              "tensor([[0.7083, 0.2500, 0.0000, 0.0000, 1.0000, 1.0000, 0.0000, 0.0000, 0.0000],\n",
              "        [0.1250, 0.7500, 0.0000, 0.0000, 1.0000, 0.0000, 0.0000, 1.0000, 0.0000],\n",
              "        [0.7917, 0.5000, 0.0000, 0.0000, 1.0000, 0.0000, 0.0000, 0.0000, 0.0000],\n",
              "        [0.9583, 0.2500, 0.0000, 0.0000, 1.0000, 1.0000, 0.0000, 0.0000, 0.0000],\n",
              "        [0.2917, 1.0000, 0.0000, 0.0000, 1.0000, 0.0000, 1.0000, 0.0000, 0.0000],\n",
              "        [0.9167, 0.0000, 0.0000, 0.0000, 0.0000, 1.0000, 0.0000, 0.0000, 1.0000],\n",
              "        [0.0000, 0.2500, 1.0000, 0.0000, 0.0000, 1.0000, 0.0000, 0.0000, 0.0000],\n",
              "        [0.6250, 0.0000, 0.0000, 0.0000, 1.0000, 1.0000, 0.0000, 1.0000, 0.0000],\n",
              "        [0.0417, 1.0000, 0.0000, 1.0000, 0.0000, 0.0000, 0.0000, 0.0000, 1.0000],\n",
              "        [0.3750, 0.0000, 0.0000, 1.0000, 0.0000, 0.0000, 0.0000, 0.0000, 0.0000]],\n",
              "       device='cuda:0')"
            ]
          },
          "metadata": {},
          "execution_count": 63
        }
      ]
    },
    {
      "cell_type": "code",
      "metadata": {
        "colab": {
          "base_uri": "https://localhost:8080/"
        },
        "id": "Ei1X2idE0hTA",
        "outputId": "b5b82cbc-7186-469a-adc6-018382a6dec8"
      },
      "source": [
        "model(data_test)"
      ],
      "execution_count": null,
      "outputs": [
        {
          "output_type": "execute_result",
          "data": {
            "text/plain": [
              "tensor([[0.0742],\n",
              "        [0.4353],\n",
              "        [0.1548],\n",
              "        [0.0759],\n",
              "        [0.2543],\n",
              "        [0.0883],\n",
              "        [0.0993],\n",
              "        [0.1050],\n",
              "        [0.4937],\n",
              "        [0.1864]], device='cuda:0', grad_fn=<AddmmBackward0>)"
            ]
          },
          "metadata": {},
          "execution_count": 64
        }
      ]
    },
    {
      "cell_type": "code",
      "metadata": {
        "colab": {
          "base_uri": "https://localhost:8080/"
        },
        "id": "2NGpsB6Z0yfP",
        "outputId": "106639bf-f047-450c-9093-042f4cb49610"
      },
      "source": [
        "#print(pred[0:10])\n",
        "indices = [i for i in range(len(pred)) if pred[i] < 0.45]\n",
        "len(indices)"
      ],
      "execution_count": null,
      "outputs": [
        {
          "output_type": "execute_result",
          "data": {
            "text/plain": [
              "858"
            ]
          },
          "metadata": {},
          "execution_count": 65
        }
      ]
    },
    {
      "cell_type": "code",
      "metadata": {
        "colab": {
          "base_uri": "https://localhost:8080/",
          "height": 206
        },
        "id": "J7bW5CCC2R3P",
        "outputId": "d2d8da9c-d443-4f1e-c2ba-1a5307d5bed9"
      },
      "source": [
        "data_10 = dataset.iloc[indices,:]\n",
        "data_10 = data_10.reindex()\n",
        "data_11 = data_10[['Edad', 'Sexo', 'Area', 'Violento']]\n",
        "data_12 = data_11[data_11.Violento == 'No Violento']\n",
        "data_12.head()"
      ],
      "execution_count": null,
      "outputs": [
        {
          "output_type": "execute_result",
          "data": {
            "text/plain": [
              "     Edad Sexo Area     Violento\n",
              "0    Niño    M   A1  No Violento\n",
              "1    Niño    F   A3  No Violento\n",
              "2    Niño    F   A1  No Violento\n",
              "3    Niño    M   A1  No Violento\n",
              "5  Adulto    M   A4  No Violento"
            ],
            "text/html": [
              "\n",
              "  <div id=\"df-7433c8a1-6b93-415b-95d5-19a8e5ce9a2d\">\n",
              "    <div class=\"colab-df-container\">\n",
              "      <div>\n",
              "<style scoped>\n",
              "    .dataframe tbody tr th:only-of-type {\n",
              "        vertical-align: middle;\n",
              "    }\n",
              "\n",
              "    .dataframe tbody tr th {\n",
              "        vertical-align: top;\n",
              "    }\n",
              "\n",
              "    .dataframe thead th {\n",
              "        text-align: right;\n",
              "    }\n",
              "</style>\n",
              "<table border=\"1\" class=\"dataframe\">\n",
              "  <thead>\n",
              "    <tr style=\"text-align: right;\">\n",
              "      <th></th>\n",
              "      <th>Edad</th>\n",
              "      <th>Sexo</th>\n",
              "      <th>Area</th>\n",
              "      <th>Violento</th>\n",
              "    </tr>\n",
              "  </thead>\n",
              "  <tbody>\n",
              "    <tr>\n",
              "      <th>0</th>\n",
              "      <td>Niño</td>\n",
              "      <td>M</td>\n",
              "      <td>A1</td>\n",
              "      <td>No Violento</td>\n",
              "    </tr>\n",
              "    <tr>\n",
              "      <th>1</th>\n",
              "      <td>Niño</td>\n",
              "      <td>F</td>\n",
              "      <td>A3</td>\n",
              "      <td>No Violento</td>\n",
              "    </tr>\n",
              "    <tr>\n",
              "      <th>2</th>\n",
              "      <td>Niño</td>\n",
              "      <td>F</td>\n",
              "      <td>A1</td>\n",
              "      <td>No Violento</td>\n",
              "    </tr>\n",
              "    <tr>\n",
              "      <th>3</th>\n",
              "      <td>Niño</td>\n",
              "      <td>M</td>\n",
              "      <td>A1</td>\n",
              "      <td>No Violento</td>\n",
              "    </tr>\n",
              "    <tr>\n",
              "      <th>5</th>\n",
              "      <td>Adulto</td>\n",
              "      <td>M</td>\n",
              "      <td>A4</td>\n",
              "      <td>No Violento</td>\n",
              "    </tr>\n",
              "  </tbody>\n",
              "</table>\n",
              "</div>\n",
              "      <button class=\"colab-df-convert\" onclick=\"convertToInteractive('df-7433c8a1-6b93-415b-95d5-19a8e5ce9a2d')\"\n",
              "              title=\"Convert this dataframe to an interactive table.\"\n",
              "              style=\"display:none;\">\n",
              "        \n",
              "  <svg xmlns=\"http://www.w3.org/2000/svg\" height=\"24px\"viewBox=\"0 0 24 24\"\n",
              "       width=\"24px\">\n",
              "    <path d=\"M0 0h24v24H0V0z\" fill=\"none\"/>\n",
              "    <path d=\"M18.56 5.44l.94 2.06.94-2.06 2.06-.94-2.06-.94-.94-2.06-.94 2.06-2.06.94zm-11 1L8.5 8.5l.94-2.06 2.06-.94-2.06-.94L8.5 2.5l-.94 2.06-2.06.94zm10 10l.94 2.06.94-2.06 2.06-.94-2.06-.94-.94-2.06-.94 2.06-2.06.94z\"/><path d=\"M17.41 7.96l-1.37-1.37c-.4-.4-.92-.59-1.43-.59-.52 0-1.04.2-1.43.59L10.3 9.45l-7.72 7.72c-.78.78-.78 2.05 0 2.83L4 21.41c.39.39.9.59 1.41.59.51 0 1.02-.2 1.41-.59l7.78-7.78 2.81-2.81c.8-.78.8-2.07 0-2.86zM5.41 20L4 18.59l7.72-7.72 1.47 1.35L5.41 20z\"/>\n",
              "  </svg>\n",
              "      </button>\n",
              "      \n",
              "  <style>\n",
              "    .colab-df-container {\n",
              "      display:flex;\n",
              "      flex-wrap:wrap;\n",
              "      gap: 12px;\n",
              "    }\n",
              "\n",
              "    .colab-df-convert {\n",
              "      background-color: #E8F0FE;\n",
              "      border: none;\n",
              "      border-radius: 50%;\n",
              "      cursor: pointer;\n",
              "      display: none;\n",
              "      fill: #1967D2;\n",
              "      height: 32px;\n",
              "      padding: 0 0 0 0;\n",
              "      width: 32px;\n",
              "    }\n",
              "\n",
              "    .colab-df-convert:hover {\n",
              "      background-color: #E2EBFA;\n",
              "      box-shadow: 0px 1px 2px rgba(60, 64, 67, 0.3), 0px 1px 3px 1px rgba(60, 64, 67, 0.15);\n",
              "      fill: #174EA6;\n",
              "    }\n",
              "\n",
              "    [theme=dark] .colab-df-convert {\n",
              "      background-color: #3B4455;\n",
              "      fill: #D2E3FC;\n",
              "    }\n",
              "\n",
              "    [theme=dark] .colab-df-convert:hover {\n",
              "      background-color: #434B5C;\n",
              "      box-shadow: 0px 1px 3px 1px rgba(0, 0, 0, 0.15);\n",
              "      filter: drop-shadow(0px 1px 2px rgba(0, 0, 0, 0.3));\n",
              "      fill: #FFFFFF;\n",
              "    }\n",
              "  </style>\n",
              "\n",
              "      <script>\n",
              "        const buttonEl =\n",
              "          document.querySelector('#df-7433c8a1-6b93-415b-95d5-19a8e5ce9a2d button.colab-df-convert');\n",
              "        buttonEl.style.display =\n",
              "          google.colab.kernel.accessAllowed ? 'block' : 'none';\n",
              "\n",
              "        async function convertToInteractive(key) {\n",
              "          const element = document.querySelector('#df-7433c8a1-6b93-415b-95d5-19a8e5ce9a2d');\n",
              "          const dataTable =\n",
              "            await google.colab.kernel.invokeFunction('convertToInteractive',\n",
              "                                                     [key], {});\n",
              "          if (!dataTable) return;\n",
              "\n",
              "          const docLinkHtml = 'Like what you see? Visit the ' +\n",
              "            '<a target=\"_blank\" href=https://colab.research.google.com/notebooks/data_table.ipynb>data table notebook</a>'\n",
              "            + ' to learn more about interactive tables.';\n",
              "          element.innerHTML = '';\n",
              "          dataTable['output_type'] = 'display_data';\n",
              "          await google.colab.output.renderOutput(dataTable, element);\n",
              "          const docLink = document.createElement('div');\n",
              "          docLink.innerHTML = docLinkHtml;\n",
              "          element.appendChild(docLink);\n",
              "        }\n",
              "      </script>\n",
              "    </div>\n",
              "  </div>\n",
              "  "
            ]
          },
          "metadata": {},
          "execution_count": 66
        }
      ]
    },
    {
      "cell_type": "code",
      "metadata": {
        "colab": {
          "base_uri": "https://localhost:8080/",
          "height": 320
        },
        "id": "hWMKxd0v0FwL",
        "outputId": "64eef7fc-39ad-49f8-f656-1caa8e6e1bc9"
      },
      "source": [
        "DATA = data_12\n",
        "clase = 'Violento'\n",
        "plt.figure(figsize=(15, 5), facecolor='white')\n",
        "pd.plotting.parallel_coordinates(DATA, class_column=clase, lw=5, alpha=0.01, colormap='Set1')\n",
        "plt.legend(loc='best')\n",
        "plt.show()"
      ],
      "execution_count": null,
      "outputs": [
        {
          "output_type": "display_data",
          "data": {
            "text/plain": [
              "<Figure size 1080x360 with 1 Axes>"
            ],
            "image/png": "[encoded data removed]"
          },
          "metadata": {}
        }
      ]
    },
    {
      "cell_type": "markdown",
      "metadata": {
        "id": "iYOmsiqS_zoV"
      },
      "source": [
        "### Referencias\n",
        "https://medium.com/@benjamin.phillips22/simple-regression-with-neural-networks-in-pytorch-313f06910379\n"
      ]
    }
  ]
}
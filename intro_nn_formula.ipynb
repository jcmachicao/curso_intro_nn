{
  "nbformat": 4,
  "nbformat_minor": 0,
  "metadata": {
    "colab": {
      "provenance": [],
      "collapsed_sections": [],
      "mount_file_id": "1T8Aj0AuzhV-oP5UBm8PsOPHP6QUD_iLl",
      "authorship_tag": "ABX9TyM32mxKiKwX0U2rasCeT1EE",
      "include_colab_link": true
    },
    "kernelspec": {
      "name": "python3",
      "display_name": "Python 3"
    },
    "gpuClass": "standard",
    "accelerator": "GPU"
  },
  "cells": [
    {
      "cell_type": "markdown",
      "metadata": {
        "id": "view-in-github",
        "colab_type": "text"
      },
      "source": [
        "<a href=\"https://colab.research.google.com/github/jcmachicao/curso_intro_nn/blob/main/intro_nn_formula.ipynb\" target=\"_parent\"><img src=\"https://colab.research.google.com/assets/colab-badge.svg\" alt=\"Open In Colab\"/></a>"
      ]
    },
    {
      "cell_type": "markdown",
      "metadata": {
        "id": "y-0NM5pn3Kyo"
      },
      "source": [
        "## **Introducción a Redes Neuronales**\n",
        "* Autor: José Carlos Machicao\n",
        "* Licencia: [GestioDinámica](http://www.gestiodinamica.com) 2022"
      ]
    },
    {
      "cell_type": "markdown",
      "metadata": {
        "id": "G4luqjK73TUj"
      },
      "source": [
        "[Tensorflow Playground](https://playground.tensorflow.org)"
      ]
    },
    {
      "cell_type": "code",
      "metadata": {
        "id": "wk9oQvf8YuqM"
      },
      "source": [
        "import torch\n",
        "import torch.nn as nn\n",
        "import pandas as pd\n",
        "import numpy as np\n",
        "import sklearn\n",
        "import matplotlib.pyplot as plt "
      ],
      "execution_count": 1,
      "outputs": []
    },
    {
      "cell_type": "code",
      "metadata": {
        "id": "YZdtPvFwZluh"
      },
      "source": [
        "ruta = 'drive/My Drive/2020 2021 Proyectos/salud riesgos/'"
      ],
      "execution_count": 2,
      "outputs": []
    },
    {
      "cell_type": "code",
      "metadata": {
        "id": "nd37Ij5MZK8C",
        "colab": {
          "base_uri": "https://localhost:8080/"
        },
        "outputId": "288ec2ac-94f0-49fc-9c1a-5befaa347660"
      },
      "source": [
        "dataset = pd.read_excel(ruta + 'muestra_datos_X.xlsx', sheet_name='datos_2')\n",
        "dataset.shape"
      ],
      "execution_count": 94,
      "outputs": [
        {
          "output_type": "execute_result",
          "data": {
            "text/plain": [
              "(100, 2)"
            ]
          },
          "metadata": {},
          "execution_count": 94
        }
      ]
    },
    {
      "cell_type": "code",
      "source": [
        "plt.figure(figsize=(6,6))\n",
        "plt.scatter(dataset.entrada, dataset.salida)\n",
        "plt.show()"
      ],
      "metadata": {
        "colab": {
          "base_uri": "https://localhost:8080/",
          "height": 374
        },
        "id": "KNgPYAS7enFT",
        "outputId": "10bb72cd-17da-4af7-dcc2-45393c3aa6fd"
      },
      "execution_count": 4,
      "outputs": [
        {
          "output_type": "display_data",
          "data": {
            "text/plain": [
              "<Figure size 432x432 with 1 Axes>"
            ],
            "image/png": "[encoded data removed]"
          },
          "metadata": {
            "needs_background": "light"
          }
        }
      ]
    },
    {
      "cell_type": "code",
      "metadata": {
        "id": "BQ_ndasP_99X"
      },
      "source": [
        "lcol = len(dataset.columns)"
      ],
      "execution_count": 5,
      "outputs": []
    },
    {
      "cell_type": "code",
      "metadata": {
        "id": "VEeEy7c3d_mb"
      },
      "source": [
        "from sklearn.preprocessing import normalize"
      ],
      "execution_count": 6,
      "outputs": []
    },
    {
      "cell_type": "code",
      "metadata": {
        "id": "L48Nyzjx_ho_"
      },
      "source": [
        "data = normalize(np.array(dataset), axis=0)"
      ],
      "execution_count": 7,
      "outputs": []
    },
    {
      "cell_type": "code",
      "metadata": {
        "id": "_KQmGkVdiUnW"
      },
      "source": [
        "data_X = np.array(data[:,0:lcol-1]).astype(np.float32)\n",
        "data_y = np.array(data[:,-1]).reshape(-1, 1).astype(np.float32)"
      ],
      "execution_count": 8,
      "outputs": []
    },
    {
      "cell_type": "code",
      "source": [
        "data_X"
      ],
      "metadata": {
        "id": "9G_ma794VglG"
      },
      "execution_count": null,
      "outputs": []
    },
    {
      "cell_type": "code",
      "metadata": {
        "id": "pGUlGFsqhDsx"
      },
      "source": [
        "X_np = data_X\n",
        "y_np = data_y\n",
        "X = torch.from_numpy(X_np)\n",
        "y = torch.from_numpy(y_np.reshape(-1, 1))"
      ],
      "execution_count": 80,
      "outputs": []
    },
    {
      "cell_type": "code",
      "metadata": {
        "id": "36yHZzEROsDq"
      },
      "source": [
        "from sklearn.linear_model import LinearRegression, BayesianRidge\n",
        "from sklearn.naive_bayes import GaussianNB"
      ],
      "execution_count": 81,
      "outputs": []
    },
    {
      "cell_type": "code",
      "metadata": {
        "id": "lgJqg3AKPSQy",
        "colab": {
          "base_uri": "https://localhost:8080/"
        },
        "outputId": "7b7e8391-c743-41b0-8809-6a204023ddc3"
      },
      "source": [
        "lm = LinearRegression()\n",
        "mlm = lm.fit(X_np, y_np)\n",
        "nb = BayesianRidge()\n",
        "mnb = nb.fit(X_np, y_np)"
      ],
      "execution_count": 82,
      "outputs": [
        {
          "output_type": "stream",
          "name": "stderr",
          "text": [
            "/usr/local/lib/python3.7/dist-packages/sklearn/utils/validation.py:993: DataConversionWarning: A column-vector y was passed when a 1d array was expected. Please change the shape of y to (n_samples, ), for example using ravel().\n",
            "  y = column_or_1d(y, warn=True)\n"
          ]
        }
      ]
    },
    {
      "cell_type": "code",
      "metadata": {
        "id": "WxIWRRCnQ8xO"
      },
      "source": [
        "pred_lm = mlm.predict(X_np)\n",
        "pred_nb = mnb.predict(X_np)"
      ],
      "execution_count": 83,
      "outputs": []
    },
    {
      "cell_type": "code",
      "metadata": {
        "id": "Odvvlkwo4o5O",
        "colab": {
          "base_uri": "https://localhost:8080/"
        },
        "outputId": "69b7949a-fd8f-471c-eb2a-992da7d791f0"
      },
      "source": [
        "len(X_np), len(pred_lm)"
      ],
      "execution_count": 84,
      "outputs": [
        {
          "output_type": "execute_result",
          "data": {
            "text/plain": [
              "(100, 100)"
            ]
          },
          "metadata": {},
          "execution_count": 84
        }
      ]
    },
    {
      "cell_type": "code",
      "metadata": {
        "id": "qb5UAieh5ooj",
        "colab": {
          "base_uri": "https://localhost:8080/"
        },
        "outputId": "e94b2749-8cd4-4236-b8ab-b0dcf74dcad7"
      },
      "source": [
        "mlm.coef_"
      ],
      "execution_count": 85,
      "outputs": [
        {
          "output_type": "execute_result",
          "data": {
            "text/plain": [
              "array([[-1.5917127]], dtype=float32)"
            ]
          },
          "metadata": {},
          "execution_count": 85
        }
      ]
    },
    {
      "cell_type": "code",
      "metadata": {
        "id": "6sc4e4uKpnDJ",
        "colab": {
          "base_uri": "https://localhost:8080/"
        },
        "outputId": "98f18489-734e-4770-efd3-c071667df04c"
      },
      "source": [
        "X.shape, y.shape"
      ],
      "execution_count": 86,
      "outputs": [
        {
          "output_type": "execute_result",
          "data": {
            "text/plain": [
              "(torch.Size([100, 1]), torch.Size([100, 1]))"
            ]
          },
          "metadata": {},
          "execution_count": 86
        }
      ]
    },
    {
      "cell_type": "code",
      "metadata": {
        "id": "KkjKGRwDpniJ",
        "colab": {
          "base_uri": "https://localhost:8080/"
        },
        "outputId": "02093df6-0b94-4030-fca7-ea785ed1ddf2"
      },
      "source": [
        "max(X), min(X), max(y), min(y)"
      ],
      "execution_count": 87,
      "outputs": [
        {
          "output_type": "execute_result",
          "data": {
            "text/plain": [
              "(tensor([0.1687]), tensor([0.0003]), tensor([0.1514]), tensor([-0.1944]))"
            ]
          },
          "metadata": {},
          "execution_count": 87
        }
      ]
    },
    {
      "cell_type": "code",
      "metadata": {
        "id": "eDvHpU6ypXmN"
      },
      "source": [
        "model = nn.Sequential(\n",
        "  nn.Linear(lcol-1, 128),\n",
        "  nn.LeakyReLU(),\n",
        "  nn.Linear(128, 8),\n",
        "  nn.LeakyReLU(),\n",
        "  nn.Linear(8, 1),\n",
        ")\n",
        "criterio = nn.MSELoss()\n",
        "optimizador = torch.optim.Adam(model.parameters(), lr=0.01)"
      ],
      "execution_count": 95,
      "outputs": []
    },
    {
      "cell_type": "code",
      "metadata": {
        "id": "oDPr67fqUUw1",
        "outputId": "e076b6a7-82dd-4059-b57d-2e019f0d9206",
        "colab": {
          "base_uri": "https://localhost:8080/"
        }
      },
      "source": [
        "from torch.cuda import is_available\n",
        "if torch.cuda.is_available():\n",
        "  print(torch.cuda.device_count())\n",
        "  print(torch.cuda.get_device_name(0))\n",
        "  model.cuda(0)\n",
        "  X_g = X.cuda(0)\n",
        "  y_g = y.cuda(0)\n",
        "else:\n",
        "  X_g = X\n",
        "  y_g = y"
      ],
      "execution_count": 96,
      "outputs": [
        {
          "output_type": "stream",
          "name": "stdout",
          "text": [
            "1\n",
            "Tesla T4\n"
          ]
        }
      ]
    },
    {
      "cell_type": "code",
      "source": [
        "preds = []"
      ],
      "metadata": {
        "id": "RPCtTXHj4Up9"
      },
      "execution_count": 97,
      "outputs": []
    },
    {
      "cell_type": "code",
      "metadata": {
        "id": "4-TCPnUJqN5s",
        "colab": {
          "base_uri": "https://localhost:8080/"
        },
        "outputId": "4da065ef-1152-4852-e611-dd8d92fe518c"
      },
      "source": [
        "for epo in range(50000):\n",
        "  y_pred = model(X_g)\n",
        "  loss = criterio(y_pred, y_g)\n",
        "  loss.backward()\n",
        "  optimizador.step()\n",
        "  optimizador.zero_grad()\n",
        "  if epo % 5000 == 0:\n",
        "    print(epo, loss.item())\n",
        "    pred = y_pred.cpu().detach().numpy()\n",
        "    #print(pred.T)\n",
        "    preds.append(pred)"
      ],
      "execution_count": 98,
      "outputs": [
        {
          "output_type": "stream",
          "name": "stdout",
          "text": [
            "0 0.011522303335368633\n",
            "5000 0.0034912731498479843\n",
            "10000 0.0034912729170173407\n",
            "15000 0.00041407247772440314\n",
            "20000 0.00039657705929130316\n",
            "25000 0.00038600334664806724\n",
            "30000 0.00037501705810427666\n",
            "35000 0.00037140509812161326\n",
            "40000 0.00037550050183199346\n",
            "45000 0.0003592254070099443\n"
          ]
        }
      ]
    },
    {
      "cell_type": "code",
      "metadata": {
        "id": "c4zPyndzQLdO",
        "colab": {
          "base_uri": "https://localhost:8080/",
          "height": 614
        },
        "outputId": "b5700104-46b2-4f42-fd31-f8f5db126682"
      },
      "source": [
        "#@title Gráfica\n",
        "plt.figure(figsize=(10,10), facecolor='lightgray')\n",
        "jitter=0.0005\n",
        "\n",
        "plt.plot(y_np, pred_nb, 'go', ms=8, label='Naive Bayes')\n",
        "plt.plot(y_np, pred, 'bo', ms=8, label='Red Neuronal')\n",
        "plt.plot(y_np, pred_lm, 'ro', ms=8, label='Regresión Lineal')\n",
        "plt.plot([-1,1], [-1, 1], 'b:', lw=4)\n",
        "\n",
        "plt.title('Comparación entre Modelos Predictivos', fontsize=20)\n",
        "plt.legend(loc='best', fontsize=14)\n",
        "plt.xlim(-0.25,0.25)\n",
        "plt.ylim(-0.25,0.25)\n",
        "plt.text(0.15, 0.22, 'GestioDinámica 2020')\n",
        "plt.show()"
      ],
      "execution_count": 106,
      "outputs": [
        {
          "output_type": "display_data",
          "data": {
            "text/plain": [
              "<Figure size 720x720 with 1 Axes>"
            ],
            "image/png": "[encoded data removed]"
          },
          "metadata": {}
        }
      ]
    },
    {
      "cell_type": "code",
      "source": [
        "plt.figure(figsize=(6,6))\n",
        "plt.scatter(data_X, pred)\n",
        "plt.scatter(data_X, data_y)\n",
        "plt.show()"
      ],
      "metadata": {
        "colab": {
          "base_uri": "https://localhost:8080/",
          "height": 374
        },
        "id": "26dyW8ack47p",
        "outputId": "af4c83eb-4c6a-4d86-8e5d-83a9893cbed3"
      },
      "execution_count": 100,
      "outputs": [
        {
          "output_type": "display_data",
          "data": {
            "text/plain": [
              "<Figure size 432x432 with 1 Axes>"
            ],
            "image/png": "[encoded data removed]"
          },
          "metadata": {
            "needs_background": "light"
          }
        }
      ]
    },
    {
      "cell_type": "markdown",
      "metadata": {
        "id": "iYOmsiqS_zoV"
      },
      "source": [
        "### Referencias\n",
        "https://medium.com/@benjamin.phillips22/simple-regression-with-neural-networks-in-pytorch-313f06910379\n"
      ]
    }
  ]
}
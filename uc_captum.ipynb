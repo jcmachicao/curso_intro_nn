{
  "nbformat": 4,
  "nbformat_minor": 0,
  "metadata": {
    "kernelspec": {
      "display_name": "Python 3",
      "language": "python",
      "name": "python3"
    },
    "language_info": {
      "codemirror_mode": {
        "name": "ipython",
        "version": 3
      },
      "file_extension": ".py",
      "mimetype": "text/x-python",
      "name": "python",
      "nbconvert_exporter": "python",
      "pygments_lexer": "ipython3",
      "version": "3.8.5"
    },
    "colab": {
      "provenance": [],
      "include_colab_link": true
    }
  },
  "cells": [
    {
      "cell_type": "markdown",
      "metadata": {
        "id": "view-in-github",
        "colab_type": "text"
      },
      "source": [
        "<a href=\"https://colab.research.google.com/github/jcmachicao/curso_intro_nn/blob/main/uc_captum.ipynb\" target=\"_parent\"><img src=\"https://colab.research.google.com/assets/colab-badge.svg\" alt=\"Open In Colab\"/></a>"
      ]
    },
    {
      "cell_type": "code",
      "metadata": {
        "id": "6WyxNGlQDgk2"
      },
      "source": [
        "!pip install captum"
      ],
      "execution_count": null,
      "outputs": []
    },
    {
      "cell_type": "code",
      "metadata": {
        "id": "Pvw2A-LzDeV2"
      },
      "source": [
        "import pandas as pd\n",
        "import numpy as np\n",
        "import matplotlib.pyplot as plt\n",
        "import os\n",
        "import time\n",
        "import math\n",
        "import plotly.express as px"
      ],
      "execution_count": null,
      "outputs": []
    },
    {
      "cell_type": "code",
      "metadata": {
        "id": "p73xkGR6DeV4"
      },
      "source": [
        "import torch\n",
        "import torch.nn as nn\n",
        "import torch.optim as optim\n",
        "import torch.nn.functional as F"
      ],
      "execution_count": null,
      "outputs": []
    },
    {
      "cell_type": "code",
      "source": [
        "from google.colab import drive\n",
        "drive.mount('/content/drive')"
      ],
      "metadata": {
        "colab": {
          "base_uri": "https://localhost:8080/"
        },
        "id": "le2LATuLooFJ",
        "outputId": "4f34fba9-d8cc-4112-b0ee-a04cfa718a8d"
      },
      "execution_count": null,
      "outputs": [
        {
          "output_type": "stream",
          "name": "stdout",
          "text": [
            "Mounted at /content/drive\n"
          ]
        }
      ]
    },
    {
      "cell_type": "code",
      "source": [
        "ruta = 'drive/My Drive/00 Modelos Principales/mod__uc_ret_2022/experimento_v10/'"
      ],
      "metadata": {
        "id": "VAQCjtKqoQ7A"
      },
      "execution_count": null,
      "outputs": []
    },
    {
      "cell_type": "code",
      "metadata": {
        "id": "0I4C-MsLDeV6"
      },
      "source": [
        "ncols, ncats, tipo_modelo = 37, 2, 'clasificación'"
      ],
      "execution_count": null,
      "outputs": []
    },
    {
      "cell_type": "code",
      "metadata": {
        "id": "QT7Hk1l9DeV7",
        "colab": {
          "base_uri": "https://localhost:8080/"
        },
        "outputId": "88f783ae-4060-4df6-8cb1-abc3052f74b1"
      },
      "source": [
        "# Arquitectura de Clasificación\n",
        "class NetClas(nn.Module):\n",
        "\n",
        "  def __init__(self):\n",
        "    super(NetClas, self).__init__()\n",
        "    self.fc1 = nn.Linear(ncols, 512)\n",
        "    self.fc2 = nn.Linear(512, 256)\n",
        "    self.fc3 = nn.Linear(256, 32)\n",
        "    self.fc4 = nn.Linear(32, ncats)\n",
        "    self.dp1 = nn.Dropout(0.15)\n",
        "\n",
        "  def forward(self, x):\n",
        "    x = self.dp1(F.relu(self.fc1(x)))\n",
        "    x = self.dp1(F.relu(self.fc2(x)))\n",
        "    x = F.relu(self.fc3(x))\n",
        "    x = self.fc4(x)\n",
        "    return F.log_softmax(x, dim=1)\n",
        "\n",
        "if tipo_modelo == 'regresión':\n",
        "  model = NetReg()\n",
        "else:\n",
        "  model = NetClas()\n",
        "\n",
        "print(model)\n",
        "print(tipo_modelo)"
      ],
      "execution_count": null,
      "outputs": [
        {
          "output_type": "stream",
          "name": "stdout",
          "text": [
            "NetClas(\n",
            "  (fc1): Linear(in_features=37, out_features=512, bias=True)\n",
            "  (fc2): Linear(in_features=512, out_features=256, bias=True)\n",
            "  (fc3): Linear(in_features=256, out_features=32, bias=True)\n",
            "  (fc4): Linear(in_features=32, out_features=2, bias=True)\n",
            "  (dp1): Dropout(p=0.15, inplace=False)\n",
            ")\n",
            "clasificación\n"
          ]
        }
      ]
    },
    {
      "cell_type": "code",
      "metadata": {
        "colab": {
          "base_uri": "https://localhost:8080/"
        },
        "id": "J7dKMOvCDeV8",
        "outputId": "da316079-cd2f-45ab-dbd8-8e3dfbc9a013"
      },
      "source": [
        "model.load_state_dict(torch.load(ruta + 'modelo_mod_RET_CLA_v10_kpi_0.pth', map_location=torch.device('cpu')))\n",
        "print(\"Modelo cargado.\")"
      ],
      "execution_count": null,
      "outputs": [
        {
          "output_type": "stream",
          "name": "stdout",
          "text": [
            "Modelo cargado.\n"
          ]
        }
      ]
    },
    {
      "cell_type": "code",
      "source": [
        "X_np = np.load(ruta + 'X_np_RET_v10.npy')\n",
        "y_np = np.load(ruta + 'y_np_RET_v10.npy')\n",
        "X_np.shape, y_np.shape"
      ],
      "metadata": {
        "colab": {
          "base_uri": "https://localhost:8080/"
        },
        "id": "KqW0abLHpHXf",
        "outputId": "8b64327a-dae5-4258-919c-d3fe5b210589"
      },
      "execution_count": null,
      "outputs": [
        {
          "output_type": "execute_result",
          "data": {
            "text/plain": [
              "((6714, 37), (6714,))"
            ]
          },
          "metadata": {},
          "execution_count": 17
        }
      ]
    },
    {
      "cell_type": "code",
      "metadata": {
        "collapsed": true,
        "jupyter": {
          "outputs_hidden": true
        },
        "colab": {
          "base_uri": "https://localhost:8080/"
        },
        "id": "tLC9NBzxDeV_",
        "outputId": "b4cc44e2-5ff2-4ef7-9083-f2f0fde8cd0e"
      },
      "source": [
        "X_t_s = torch.tensor(X_np).float()\n",
        "out = model(X_t_s)\n",
        "y_hat = torch.argmax(out.detach(), 1).numpy()\n",
        "y_hat"
      ],
      "execution_count": null,
      "outputs": [
        {
          "output_type": "execute_result",
          "data": {
            "text/plain": [
              "array([1, 1, 1, ..., 1, 1, 1])"
            ]
          },
          "metadata": {},
          "execution_count": 26
        }
      ]
    },
    {
      "cell_type": "code",
      "metadata": {
        "colab": {
          "base_uri": "https://localhost:8080/"
        },
        "id": "XoUGU0CMDeV_",
        "outputId": "637a6c80-a551-44eb-a50b-6a72d6403099"
      },
      "source": [
        "pd.Series(y_hat).value_counts()"
      ],
      "execution_count": null,
      "outputs": [
        {
          "output_type": "execute_result",
          "data": {
            "text/plain": [
              "1    5239\n",
              "0    1475\n",
              "dtype: int64"
            ]
          },
          "metadata": {},
          "execution_count": 27
        }
      ]
    },
    {
      "cell_type": "code",
      "metadata": {
        "id": "Gym59g3zDeWA"
      },
      "source": [
        "from captum.attr import IntegratedGradients\n",
        "from captum.attr import LayerConductance\n",
        "from captum.attr import NeuronConductance"
      ],
      "execution_count": null,
      "outputs": []
    },
    {
      "cell_type": "code",
      "metadata": {
        "id": "zgn2d78GDeWA"
      },
      "source": [
        "ig = IntegratedGradients(model)"
      ],
      "execution_count": null,
      "outputs": []
    },
    {
      "cell_type": "code",
      "metadata": {
        "colab": {
          "base_uri": "https://localhost:8080/"
        },
        "id": "CXS2GhYyDeWA",
        "outputId": "16a85a0e-aa6d-466c-c6b5-52a1014bdc76"
      },
      "source": [
        "X_t_s.requires_grad_()"
      ],
      "execution_count": null,
      "outputs": [
        {
          "output_type": "execute_result",
          "data": {
            "text/plain": [
              "tensor([[0.1199, 0.3004, 0.1242,  ..., 0.0000, 0.0000, 0.6625],\n",
              "        [0.3390, 0.4751, 0.4132,  ..., 1.0000, 0.0000, 0.5837],\n",
              "        [0.1013, 0.1887, 0.1478,  ..., 0.0000, 0.0000, 0.5447],\n",
              "        ...,\n",
              "        [0.0000, 0.0000, 0.0000,  ..., 0.0000, 0.0000, 0.1335],\n",
              "        [0.0000, 0.0000, 0.0000,  ..., 0.0000, 1.0000, 0.0252],\n",
              "        [0.0000, 0.0000, 0.0000,  ..., 1.0000, 0.0000, 0.0384]],\n",
              "       requires_grad=True)"
            ]
          },
          "metadata": {},
          "execution_count": 28
        }
      ]
    },
    {
      "cell_type": "code",
      "metadata": {
        "id": "Mh7IPlUNDeWB"
      },
      "source": [
        "attr, delta = ig.attribute(X_t_s.float(), target=1, return_convergence_delta=True) \n",
        "# para un modelo 6k x 512x6layers clas demora aproximadamente 20 min"
      ],
      "execution_count": null,
      "outputs": []
    },
    {
      "cell_type": "code",
      "metadata": {
        "id": "pftgKg-CDeWB"
      },
      "source": [
        "attr = attr.detach().numpy()"
      ],
      "execution_count": null,
      "outputs": []
    },
    {
      "cell_type": "code",
      "metadata": {
        "colab": {
          "base_uri": "https://localhost:8080/"
        },
        "id": "mqOA0rvBGWld",
        "outputId": "00c689a0-a8fa-4c29-a3b5-6ced9026459c"
      },
      "source": [
        "importancias = np.mean(attr, axis=0)\n",
        "len(importancias)"
      ],
      "execution_count": null,
      "outputs": [
        {
          "output_type": "execute_result",
          "data": {
            "text/plain": [
              "37"
            ]
          },
          "metadata": {},
          "execution_count": 31
        }
      ]
    },
    {
      "cell_type": "code",
      "metadata": {
        "id": "JN6_PKDpFWfV"
      },
      "source": [
        "cols = pd.read_csv(ruta + 'cols.csv')\n",
        "cols_list = list(cols.columnas)\n",
        "cols_list"
      ],
      "execution_count": null,
      "outputs": []
    },
    {
      "cell_type": "code",
      "metadata": {
        "colab": {
          "base_uri": "https://localhost:8080/"
        },
        "id": "BhbUHgEgFH7O",
        "outputId": "2cad09c8-f7b3-4cb9-af75-9655e4b34a15"
      },
      "source": [
        "for i in range(len(cols_list)):\n",
        "    print(cols_list[i], \": \", '%.3f'%(importancias[i]))\n",
        "x_pos = (np.arange(len(cols_list)))\n",
        "x_pos"
      ],
      "execution_count": null,
      "outputs": [
        {
          "output_type": "stream",
          "name": "stdout",
          "text": [
            "ms16_A :  -0.436\n",
            "mt16_A :  0.004\n",
            "mvars1s6_A :  -0.198\n",
            "mvart1t6_A :  0.047\n",
            "ms16_B :  1.361\n",
            "mt16_B :  1.273\n",
            "mvars1s6_B :  -0.047\n",
            "mvart1t6_B :  -0.071\n",
            "Per_adm_202110 :  -0.901\n",
            "ead :  3.742\n",
            "c_aqp :  0.016\n",
            "c_cus :  0.151\n",
            "c_hyo :  0.237\n",
            "c_lim :  0.004\n",
            "adm :  0.236\n",
            "adm_gp :  0.056\n",
            "conta :  0.042\n",
            "derecho :  -0.373\n",
            "ing_civ :  -0.065\n",
            "ing_min :  -0.050\n",
            "ing_sis :  0.137\n",
            "ing_elec :  0.061\n",
            "ing_emp :  -0.042\n",
            "ing_ind :  0.397\n",
            "ing_mec :  0.122\n",
            "psico :  0.246\n",
            "genero2 :  -0.151\n",
            "casado :  0.285\n",
            "conviv :  0.217\n",
            "solter :  1.308\n",
            "dep_si :  -1.036\n",
            "e_atecnica :  0.178\n",
            "e_auniversitaria :  -0.098\n",
            "dias7 :  1.770\n",
            "dias56 :  0.236\n",
            "dias34 :  -0.011\n",
            "edad :  -2.092\n"
          ]
        },
        {
          "output_type": "execute_result",
          "data": {
            "text/plain": [
              "array([ 0,  1,  2,  3,  4,  5,  6,  7,  8,  9, 10, 11, 12, 13, 14, 15, 16,\n",
              "       17, 18, 19, 20, 21, 22, 23, 24, 25, 26, 27, 28, 29, 30, 31, 32, 33,\n",
              "       34, 35, 36])"
            ]
          },
          "metadata": {},
          "execution_count": 34
        }
      ]
    },
    {
      "cell_type": "code",
      "metadata": {
        "colab": {
          "base_uri": "https://localhost:8080/",
          "height": 591
        },
        "id": "85aSPYxcDeWB",
        "outputId": "903f3c3d-bfa9-4d67-9e45-53f13f763495"
      },
      "source": [
        "plt.figure(figsize=(15,8))\n",
        "plt.bar(x_pos, importancias)\n",
        "plt.xticks(x_pos, cols_list)\n",
        "plt.xlabel('Features')\n",
        "plt.xticks(rotation=90)\n",
        "plt.title('Importancias Promedio por Atributo, Red Neuronal', fontsize=16)\n",
        "plt.ylim(-1,1)\n",
        "plt.grid(True)\n",
        "plt.show()"
      ],
      "execution_count": null,
      "outputs": [
        {
          "output_type": "display_data",
          "data": {
            "text/plain": [
              "<Figure size 1080x576 with 1 Axes>"
            ],
            "image/png": "[encoded data removed]"
          },
          "metadata": {
            "needs_background": "light"
          }
        }
      ]
    }
  ]
}
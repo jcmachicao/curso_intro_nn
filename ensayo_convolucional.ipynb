{
  "nbformat": 4,
  "nbformat_minor": 0,
  "metadata": {
    "colab": {
      "provenance": [],
      "mount_file_id": "1EZKhk7o-PE7DoYtdfwXU8e9I5vZVXdn_",
      "authorship_tag": "ABX9TyNUi5AcwwIRRUwszNb60I+Z",
      "include_colab_link": true
    },
    "kernelspec": {
      "name": "python3",
      "display_name": "Python 3"
    },
    "gpuClass": "standard"
  },
  "cells": [
    {
      "cell_type": "markdown",
      "metadata": {
        "id": "view-in-github",
        "colab_type": "text"
      },
      "source": [
        "<a href=\"https://colab.research.google.com/github/jcmachicao/curso_intro_nn/blob/main/ensayo_convolucional.ipynb\" target=\"_parent\"><img src=\"https://colab.research.google.com/assets/colab-badge.svg\" alt=\"Open In Colab\"/></a>"
      ]
    },
    {
      "cell_type": "markdown",
      "metadata": {
        "id": "eDncrMInEsCT"
      },
      "source": []
    },
    {
      "cell_type": "code",
      "metadata": {
        "id": "uA2tAnvq6Ydn"
      },
      "source": [
        "import pandas as pd\n",
        "import numpy as np\n",
        "import matplotlib.pyplot as plt\n",
        "import torch"
      ],
      "execution_count": 1,
      "outputs": []
    },
    {
      "cell_type": "code",
      "metadata": {
        "id": "mkl3fTTDD4wx",
        "colab": {
          "base_uri": "https://localhost:8080/"
        },
        "outputId": "fb34d952-14e5-49b6-9f63-0caae5e2b19b"
      },
      "source": [
        "if torch.cuda.is_available():\n",
        "  print(torch.cuda.device_count())\n",
        "  print(torch.cuda.get_device_name(0))\n",
        "else:\n",
        "  print('No hay conexión a GPU')"
      ],
      "execution_count": 5,
      "outputs": [
        {
          "output_type": "stream",
          "name": "stdout",
          "text": [
            "No hay conexión a GPU\n"
          ]
        }
      ]
    },
    {
      "cell_type": "markdown",
      "metadata": {
        "id": "KsN-TpF-EtXo"
      },
      "source": [
        "## Carga de archivo de texto"
      ]
    },
    {
      "cell_type": "code",
      "metadata": {
        "id": "pxAkmRs16Vs8",
        "colab": {
          "base_uri": "https://localhost:8080/",
          "height": 272
        },
        "outputId": "c55a0164-2dd1-412c-8bc9-e1db80f63e90"
      },
      "source": [
        "vecs = pd.read_excel('drive/My Drive/00 data/bd100_scom_vecs.xlsx')\n",
        "vecs.head(2)"
      ],
      "execution_count": 3,
      "outputs": [
        {
          "output_type": "execute_result",
          "data": {
            "text/plain": [
              "   Unnamed: 0         0         1         2         3         4         5  \\\n",
              "0           0  0.179355  0.105002 -0.064927  0.185435  0.435803 -0.306217   \n",
              "1           1  0.006646 -0.020737 -0.023811  0.023838  0.053261 -0.079269   \n",
              "\n",
              "          6         7         8  ...        91        92        93        94  \\\n",
              "0 -0.011068  0.008246 -0.163101  ...  0.071025 -0.054219  0.098506 -0.428157   \n",
              "1 -0.017070 -0.069743 -0.041027  ...  0.006383  0.009211  0.003845  0.015106   \n",
              "\n",
              "         95        96        97        98        99                   clase  \n",
              "0 -0.116313  0.027295  0.022213  0.160096  0.099741  no reembolso de dinero  \n",
              "1 -0.002231 -0.072769  0.068407 -0.032824  0.061957  no reembolso de dinero  \n",
              "\n",
              "[2 rows x 102 columns]"
            ],
            "text/html": [
              "\n",
              "  <div id=\"df-6e17e9e3-8488-4d0f-a1c9-4319df10e5e2\">\n",
              "    <div class=\"colab-df-container\">\n",
              "      <div>\n",
              "<style scoped>\n",
              "    .dataframe tbody tr th:only-of-type {\n",
              "        vertical-align: middle;\n",
              "    }\n",
              "\n",
              "    .dataframe tbody tr th {\n",
              "        vertical-align: top;\n",
              "    }\n",
              "\n",
              "    .dataframe thead th {\n",
              "        text-align: right;\n",
              "    }\n",
              "</style>\n",
              "<table border=\"1\" class=\"dataframe\">\n",
              "  <thead>\n",
              "    <tr style=\"text-align: right;\">\n",
              "      <th></th>\n",
              "      <th>Unnamed: 0</th>\n",
              "      <th>0</th>\n",
              "      <th>1</th>\n",
              "      <th>2</th>\n",
              "      <th>3</th>\n",
              "      <th>4</th>\n",
              "      <th>5</th>\n",
              "      <th>6</th>\n",
              "      <th>7</th>\n",
              "      <th>8</th>\n",
              "      <th>...</th>\n",
              "      <th>91</th>\n",
              "      <th>92</th>\n",
              "      <th>93</th>\n",
              "      <th>94</th>\n",
              "      <th>95</th>\n",
              "      <th>96</th>\n",
              "      <th>97</th>\n",
              "      <th>98</th>\n",
              "      <th>99</th>\n",
              "      <th>clase</th>\n",
              "    </tr>\n",
              "  </thead>\n",
              "  <tbody>\n",
              "    <tr>\n",
              "      <th>0</th>\n",
              "      <td>0</td>\n",
              "      <td>0.179355</td>\n",
              "      <td>0.105002</td>\n",
              "      <td>-0.064927</td>\n",
              "      <td>0.185435</td>\n",
              "      <td>0.435803</td>\n",
              "      <td>-0.306217</td>\n",
              "      <td>-0.011068</td>\n",
              "      <td>0.008246</td>\n",
              "      <td>-0.163101</td>\n",
              "      <td>...</td>\n",
              "      <td>0.071025</td>\n",
              "      <td>-0.054219</td>\n",
              "      <td>0.098506</td>\n",
              "      <td>-0.428157</td>\n",
              "      <td>-0.116313</td>\n",
              "      <td>0.027295</td>\n",
              "      <td>0.022213</td>\n",
              "      <td>0.160096</td>\n",
              "      <td>0.099741</td>\n",
              "      <td>no reembolso de dinero</td>\n",
              "    </tr>\n",
              "    <tr>\n",
              "      <th>1</th>\n",
              "      <td>1</td>\n",
              "      <td>0.006646</td>\n",
              "      <td>-0.020737</td>\n",
              "      <td>-0.023811</td>\n",
              "      <td>0.023838</td>\n",
              "      <td>0.053261</td>\n",
              "      <td>-0.079269</td>\n",
              "      <td>-0.017070</td>\n",
              "      <td>-0.069743</td>\n",
              "      <td>-0.041027</td>\n",
              "      <td>...</td>\n",
              "      <td>0.006383</td>\n",
              "      <td>0.009211</td>\n",
              "      <td>0.003845</td>\n",
              "      <td>0.015106</td>\n",
              "      <td>-0.002231</td>\n",
              "      <td>-0.072769</td>\n",
              "      <td>0.068407</td>\n",
              "      <td>-0.032824</td>\n",
              "      <td>0.061957</td>\n",
              "      <td>no reembolso de dinero</td>\n",
              "    </tr>\n",
              "  </tbody>\n",
              "</table>\n",
              "<p>2 rows × 102 columns</p>\n",
              "</div>\n",
              "      <button class=\"colab-df-convert\" onclick=\"convertToInteractive('df-6e17e9e3-8488-4d0f-a1c9-4319df10e5e2')\"\n",
              "              title=\"Convert this dataframe to an interactive table.\"\n",
              "              style=\"display:none;\">\n",
              "        \n",
              "  <svg xmlns=\"http://www.w3.org/2000/svg\" height=\"24px\"viewBox=\"0 0 24 24\"\n",
              "       width=\"24px\">\n",
              "    <path d=\"M0 0h24v24H0V0z\" fill=\"none\"/>\n",
              "    <path d=\"M18.56 5.44l.94 2.06.94-2.06 2.06-.94-2.06-.94-.94-2.06-.94 2.06-2.06.94zm-11 1L8.5 8.5l.94-2.06 2.06-.94-2.06-.94L8.5 2.5l-.94 2.06-2.06.94zm10 10l.94 2.06.94-2.06 2.06-.94-2.06-.94-.94-2.06-.94 2.06-2.06.94z\"/><path d=\"M17.41 7.96l-1.37-1.37c-.4-.4-.92-.59-1.43-.59-.52 0-1.04.2-1.43.59L10.3 9.45l-7.72 7.72c-.78.78-.78 2.05 0 2.83L4 21.41c.39.39.9.59 1.41.59.51 0 1.02-.2 1.41-.59l7.78-7.78 2.81-2.81c.8-.78.8-2.07 0-2.86zM5.41 20L4 18.59l7.72-7.72 1.47 1.35L5.41 20z\"/>\n",
              "  </svg>\n",
              "      </button>\n",
              "      \n",
              "  <style>\n",
              "    .colab-df-container {\n",
              "      display:flex;\n",
              "      flex-wrap:wrap;\n",
              "      gap: 12px;\n",
              "    }\n",
              "\n",
              "    .colab-df-convert {\n",
              "      background-color: #E8F0FE;\n",
              "      border: none;\n",
              "      border-radius: 50%;\n",
              "      cursor: pointer;\n",
              "      display: none;\n",
              "      fill: #1967D2;\n",
              "      height: 32px;\n",
              "      padding: 0 0 0 0;\n",
              "      width: 32px;\n",
              "    }\n",
              "\n",
              "    .colab-df-convert:hover {\n",
              "      background-color: #E2EBFA;\n",
              "      box-shadow: 0px 1px 2px rgba(60, 64, 67, 0.3), 0px 1px 3px 1px rgba(60, 64, 67, 0.15);\n",
              "      fill: #174EA6;\n",
              "    }\n",
              "\n",
              "    [theme=dark] .colab-df-convert {\n",
              "      background-color: #3B4455;\n",
              "      fill: #D2E3FC;\n",
              "    }\n",
              "\n",
              "    [theme=dark] .colab-df-convert:hover {\n",
              "      background-color: #434B5C;\n",
              "      box-shadow: 0px 1px 3px 1px rgba(0, 0, 0, 0.15);\n",
              "      filter: drop-shadow(0px 1px 2px rgba(0, 0, 0, 0.3));\n",
              "      fill: #FFFFFF;\n",
              "    }\n",
              "  </style>\n",
              "\n",
              "      <script>\n",
              "        const buttonEl =\n",
              "          document.querySelector('#df-6e17e9e3-8488-4d0f-a1c9-4319df10e5e2 button.colab-df-convert');\n",
              "        buttonEl.style.display =\n",
              "          google.colab.kernel.accessAllowed ? 'block' : 'none';\n",
              "\n",
              "        async function convertToInteractive(key) {\n",
              "          const element = document.querySelector('#df-6e17e9e3-8488-4d0f-a1c9-4319df10e5e2');\n",
              "          const dataTable =\n",
              "            await google.colab.kernel.invokeFunction('convertToInteractive',\n",
              "                                                     [key], {});\n",
              "          if (!dataTable) return;\n",
              "\n",
              "          const docLinkHtml = 'Like what you see? Visit the ' +\n",
              "            '<a target=\"_blank\" href=https://colab.research.google.com/notebooks/data_table.ipynb>data table notebook</a>'\n",
              "            + ' to learn more about interactive tables.';\n",
              "          element.innerHTML = '';\n",
              "          dataTable['output_type'] = 'display_data';\n",
              "          await google.colab.output.renderOutput(dataTable, element);\n",
              "          const docLink = document.createElement('div');\n",
              "          docLink.innerHTML = docLinkHtml;\n",
              "          element.appendChild(docLink);\n",
              "        }\n",
              "      </script>\n",
              "    </div>\n",
              "  </div>\n",
              "  "
            ]
          },
          "metadata": {},
          "execution_count": 3
        }
      ]
    },
    {
      "cell_type": "code",
      "metadata": {
        "id": "42P2I2zhx4_p",
        "colab": {
          "base_uri": "https://localhost:8080/",
          "height": 282
        },
        "outputId": "11189f67-17cf-4fd3-93c6-0ee46e865aca"
      },
      "source": [
        "vecs.clase.hist()"
      ],
      "execution_count": 6,
      "outputs": [
        {
          "output_type": "execute_result",
          "data": {
            "text/plain": [
              "<matplotlib.axes._subplots.AxesSubplot at 0x7eff55b20190>"
            ]
          },
          "metadata": {},
          "execution_count": 6
        },
        {
          "output_type": "display_data",
          "data": {
            "text/plain": [
              "<Figure size 432x288 with 1 Axes>"
            ],
            "image/png": "[encoded data removed]"
          },
          "metadata": {
            "needs_background": "light"
          }
        }
      ]
    },
    {
      "cell_type": "markdown",
      "metadata": {
        "id": "CfQiu-wqEtNz"
      },
      "source": [
        "## Vectorización"
      ]
    },
    {
      "cell_type": "code",
      "metadata": {
        "id": "U_6PQyKL7acm",
        "colab": {
          "base_uri": "https://localhost:8080/"
        },
        "outputId": "efb79ab6-4ac9-4204-f6a2-0d2d897d06b9"
      },
      "source": [
        "vecs_arr = np.array(vecs.iloc[:, 1:101])\n",
        "vecs_arr.shape"
      ],
      "execution_count": 7,
      "outputs": [
        {
          "output_type": "execute_result",
          "data": {
            "text/plain": [
              "(4520, 100)"
            ]
          },
          "metadata": {},
          "execution_count": 7
        }
      ]
    },
    {
      "cell_type": "code",
      "metadata": {
        "id": "pHeEfJevlpOz",
        "colab": {
          "base_uri": "https://localhost:8080/"
        },
        "outputId": "a87026df-bebe-4cd7-c5b9-d7d6be63aa75"
      },
      "source": [
        "vecs_arr2 = vecs_arr.reshape(-1, 10, 10)\n",
        "vecs_arr2.shape"
      ],
      "execution_count": 8,
      "outputs": [
        {
          "output_type": "execute_result",
          "data": {
            "text/plain": [
              "(4520, 10, 10)"
            ]
          },
          "metadata": {},
          "execution_count": 8
        }
      ]
    },
    {
      "cell_type": "code",
      "metadata": {
        "id": "xBiDQb2WuMuw",
        "colab": {
          "base_uri": "https://localhost:8080/"
        },
        "outputId": "bc2b6e77-42a4-49c5-e0fd-67c1e38edddd"
      },
      "source": [
        "n_samp = 2000\n",
        "input = torch.tensor(vecs_arr2[:n_samp])\n",
        "input.shape"
      ],
      "execution_count": null,
      "outputs": [
        {
          "output_type": "execute_result",
          "data": {
            "text/plain": [
              "torch.Size([2000, 10, 10])"
            ]
          },
          "metadata": {
            "tags": []
          },
          "execution_count": 7
        }
      ]
    },
    {
      "cell_type": "markdown",
      "metadata": {
        "id": "6fIT8pavFW6y"
      },
      "source": [
        "## Prueba Gráfica Convolucional"
      ]
    },
    {
      "cell_type": "code",
      "metadata": {
        "id": "o0iVcQd0nPjy",
        "colab": {
          "base_uri": "https://localhost:8080/",
          "height": 282
        },
        "outputId": "a81f7ff5-0de8-4585-829b-1bd55df2ab2c"
      },
      "source": [
        "plt.imshow(input[10])"
      ],
      "execution_count": null,
      "outputs": [
        {
          "output_type": "execute_result",
          "data": {
            "text/plain": [
              "<matplotlib.image.AxesImage at 0x7f3fb9b8ed50>"
            ]
          },
          "metadata": {
            "tags": []
          },
          "execution_count": 76
        },
        {
          "output_type": "display_data",
          "data": {
            "image/png": "[encoded data removed]",
            "text/plain": [
              "<Figure size 432x288 with 1 Axes>"
            ]
          },
          "metadata": {
            "tags": [],
            "needs_background": "light"
          }
        }
      ]
    },
    {
      "cell_type": "code",
      "metadata": {
        "id": "DpeQb3g0np59",
        "colab": {
          "base_uri": "https://localhost:8080/",
          "height": 299
        },
        "outputId": "498489ad-8057-42fa-c41b-2baa404e3144"
      },
      "source": [
        "data = torch.randn(15, 10, 10)\n",
        "print(data.shape)\n",
        "plt.imshow(data[0].detach())"
      ],
      "execution_count": null,
      "outputs": [
        {
          "output_type": "stream",
          "text": [
            "torch.Size([15, 10, 10])\n"
          ],
          "name": "stdout"
        },
        {
          "output_type": "execute_result",
          "data": {
            "text/plain": [
              "<matplotlib.image.AxesImage at 0x7f3fb934ce90>"
            ]
          },
          "metadata": {
            "tags": []
          },
          "execution_count": 9
        },
        {
          "output_type": "display_data",
          "data": {
            "image/png": "[encoded data removed]",
            "text/plain": [
              "<Figure size 432x288 with 1 Axes>"
            ]
          },
          "metadata": {
            "tags": [],
            "needs_background": "light"
          }
        }
      ]
    },
    {
      "cell_type": "code",
      "metadata": {
        "id": "4pL10qkan3xF",
        "colab": {
          "base_uri": "https://localhost:8080/",
          "height": 299
        },
        "outputId": "58fb2997-b4ef-43f9-fe17-e2bd840c4b8c"
      },
      "source": [
        "m = torch.nn.Conv1d(in_channels=10, out_channels=8, kernel_size=3, stride=1)\n",
        "b = m(input.float())\n",
        "print(b.shape)\n",
        "plt.imshow(b[0].detach())"
      ],
      "execution_count": null,
      "outputs": [
        {
          "output_type": "stream",
          "text": [
            "torch.Size([2000, 8, 8])\n"
          ],
          "name": "stdout"
        },
        {
          "output_type": "execute_result",
          "data": {
            "text/plain": [
              "<matplotlib.image.AxesImage at 0x7f3fba2ccc10>"
            ]
          },
          "metadata": {
            "tags": []
          },
          "execution_count": 10
        },
        {
          "output_type": "display_data",
          "data": {
            "image/png": "[encoded data removed]",
            "text/plain": [
              "<Figure size 432x288 with 1 Axes>"
            ]
          },
          "metadata": {
            "tags": [],
            "needs_background": "light"
          }
        }
      ]
    },
    {
      "cell_type": "code",
      "metadata": {
        "id": "VUxQ9ZJ21oBF",
        "colab": {
          "base_uri": "https://localhost:8080/",
          "height": 299
        },
        "outputId": "c6943740-ce2c-4ffb-b524-e4a6c4e313c5"
      },
      "source": [
        "m1 = torch.nn.Conv1d(in_channels=8, out_channels=6, kernel_size=3, stride=1)\n",
        "b1 = m1(b)\n",
        "print(b1.shape)\n",
        "plt.imshow(b1[0].detach())"
      ],
      "execution_count": null,
      "outputs": [
        {
          "output_type": "stream",
          "text": [
            "torch.Size([2000, 6, 6])\n"
          ],
          "name": "stdout"
        },
        {
          "output_type": "execute_result",
          "data": {
            "text/plain": [
              "<matplotlib.image.AxesImage at 0x7f3fb9b8d410>"
            ]
          },
          "metadata": {
            "tags": []
          },
          "execution_count": 11
        },
        {
          "output_type": "display_data",
          "data": {
            "image/png": "[encoded data removed]",
            "text/plain": [
              "<Figure size 432x288 with 1 Axes>"
            ]
          },
          "metadata": {
            "tags": [],
            "needs_background": "light"
          }
        }
      ]
    },
    {
      "cell_type": "code",
      "metadata": {
        "id": "zxLp-T9uBic7",
        "colab": {
          "base_uri": "https://localhost:8080/"
        },
        "outputId": "0d2fb140-8eb9-4ab8-d9b8-63a94cd84223"
      },
      "source": [
        "m2 = torch.nn.Conv1d(in_channels=6, out_channels=1, kernel_size=5, stride=1)\n",
        "b2 = m2(b1)\n",
        "b2.shape"
      ],
      "execution_count": null,
      "outputs": [
        {
          "output_type": "execute_result",
          "data": {
            "text/plain": [
              "torch.Size([2000, 1, 2])"
            ]
          },
          "metadata": {
            "tags": []
          },
          "execution_count": 12
        }
      ]
    },
    {
      "cell_type": "markdown",
      "metadata": {
        "id": "ek-jOKmDEtCM"
      },
      "source": [
        "## Modelo"
      ]
    },
    {
      "cell_type": "code",
      "metadata": {
        "id": "eBt4iOZD-vNQ",
        "colab": {
          "base_uri": "https://localhost:8080/"
        },
        "outputId": "535a3547-c892-4eaa-bf43-0a8376fcc4cd"
      },
      "source": [
        "factores = pd.factorize(vecs.clase)\n",
        "y_b = factores[0][:n_samp].astype(float)\n",
        "lf = len(factores[1])\n",
        "factores[1], lf"
      ],
      "execution_count": null,
      "outputs": [
        {
          "output_type": "execute_result",
          "data": {
            "text/plain": [
              "(Index(['no reembolso de dinero', 'pedido incompleto '], dtype='object'), 2)"
            ]
          },
          "metadata": {
            "tags": []
          },
          "execution_count": 13
        }
      ]
    },
    {
      "cell_type": "code",
      "metadata": {
        "id": "onFGzkzD_Og-",
        "colab": {
          "base_uri": "https://localhost:8080/"
        },
        "outputId": "53b1893a-0f3a-442e-a4ae-83d910361a55"
      },
      "source": [
        "y_tn = torch.from_numpy(y_b)\n",
        "y_tn.shape"
      ],
      "execution_count": null,
      "outputs": [
        {
          "output_type": "execute_result",
          "data": {
            "text/plain": [
              "torch.Size([2000])"
            ]
          },
          "metadata": {
            "tags": []
          },
          "execution_count": 14
        }
      ]
    },
    {
      "cell_type": "code",
      "metadata": {
        "id": "Wq7CkGpAYkfn",
        "colab": {
          "base_uri": "https://localhost:8080/"
        },
        "outputId": "17c16a61-486c-4e51-af6c-353804261f11"
      },
      "source": [
        "X_tn = input\n",
        "X_tn.shape"
      ],
      "execution_count": null,
      "outputs": [
        {
          "output_type": "execute_result",
          "data": {
            "text/plain": [
              "torch.Size([2000, 10, 10])"
            ]
          },
          "metadata": {
            "tags": []
          },
          "execution_count": 15
        }
      ]
    },
    {
      "cell_type": "code",
      "metadata": {
        "id": "3FW_WdPiky3D"
      },
      "source": [
        "modelo100 = torch.nn.Sequential(\n",
        "    torch.nn.Conv1d(in_channels=10, out_channels=8, kernel_size=3, stride=1),\n",
        "    torch.nn.Conv1d(in_channels=8, out_channels=6, kernel_size=3, stride=1),\n",
        "    torch.nn.Conv1d(in_channels=6, out_channels=1, kernel_size=5, stride=1),\n",
        ")"
      ],
      "execution_count": null,
      "outputs": []
    },
    {
      "cell_type": "code",
      "source": [
        "class Net():\n",
        "  def __init__():\n",
        "    super."
      ],
      "metadata": {
        "id": "r-DOlpQZbytJ"
      },
      "execution_count": null,
      "outputs": []
    },
    {
      "cell_type": "code",
      "metadata": {
        "id": "9MjcIPgNFjhJ"
      },
      "source": [
        "modelo100.cuda()\n",
        "X = X_tn.cuda()\n",
        "y = y_tn.cuda()"
      ],
      "execution_count": null,
      "outputs": []
    },
    {
      "cell_type": "code",
      "metadata": {
        "id": "Y3r8OvebyqYQ",
        "colab": {
          "base_uri": "https://localhost:8080/"
        },
        "outputId": "23f917c4-f060-40dd-af05-7650a6752832"
      },
      "source": [
        "modelo100"
      ],
      "execution_count": null,
      "outputs": [
        {
          "output_type": "execute_result",
          "data": {
            "text/plain": [
              "Sequential(\n",
              "  (0): Conv1d(10, 8, kernel_size=(3,), stride=(1,))\n",
              "  (1): Conv1d(8, 6, kernel_size=(3,), stride=(1,))\n",
              "  (2): Conv1d(6, 1, kernel_size=(5,), stride=(1,))\n",
              ")"
            ]
          },
          "metadata": {
            "tags": []
          },
          "execution_count": 18
        }
      ]
    },
    {
      "cell_type": "code",
      "metadata": {
        "id": "vm4A4Sv_lan4"
      },
      "source": [
        "optimizer = torch.optim.SGD(modelo100.parameters(), lr=0.001, momentum=0)\n",
        "criterion = torch.nn.CrossEntropyLoss()"
      ],
      "execution_count": null,
      "outputs": []
    },
    {
      "cell_type": "code",
      "metadata": {
        "id": "DSF3UqlAvy6I",
        "colab": {
          "base_uri": "https://localhost:8080/"
        },
        "outputId": "23a7d481-7eb2-4b6e-9ac9-9cb86e5501b0"
      },
      "source": [
        "epochs = 20000\n",
        "for epo in range(epochs):\n",
        "  optimizer.zero_grad()\n",
        "  y_pred = modelo100(X.float())\n",
        "  loss = criterion(y_pred.squeeze(), y.long())\n",
        "  loss.backward()\n",
        "  optimizer.step()\n",
        "  if epo % 1000 == 0:\n",
        "    print(epo, loss.item())"
      ],
      "execution_count": null,
      "outputs": [
        {
          "output_type": "stream",
          "text": [
            "0 0.007951300591230392\n",
            "1000 0.007923798635601997\n",
            "2000 0.007896604016423225\n",
            "3000 0.007869729772210121\n",
            "4000 0.007843184284865856\n",
            "5000 0.00781696941703558\n",
            "6000 0.007791089825332165\n",
            "7000 0.007765485905110836\n",
            "8000 0.00774011155590415\n",
            "9000 0.007715016137808561\n",
            "10000 0.0076902457512915134\n",
            "11000 0.007665805518627167\n",
            "12000 0.007641665171831846\n",
            "13000 0.007617839612066746\n",
            "14000 0.00759435910731554\n",
            "15000 0.00757113192230463\n",
            "16000 0.007548137102276087\n",
            "17000 0.007525340653955936\n",
            "18000 0.007502763532102108\n",
            "19000 0.00748051144182682\n"
          ],
          "name": "stdout"
        }
      ]
    },
    {
      "cell_type": "code",
      "metadata": {
        "id": "pScRJjhRAir2",
        "colab": {
          "base_uri": "https://localhost:8080/"
        },
        "outputId": "84d89ab2-4855-4f1a-ca1f-ae0a52ee3b33"
      },
      "source": [
        "y_pred.squeeze()"
      ],
      "execution_count": null,
      "outputs": [
        {
          "output_type": "execute_result",
          "data": {
            "text/plain": [
              "tensor([[ 10.0622, -10.7914],\n",
              "        [  1.4826,  -1.9260],\n",
              "        [  6.2877,  -5.3601],\n",
              "        ...,\n",
              "        [  3.5353,  -3.3105],\n",
              "        [ 10.2038, -10.0674],\n",
              "        [ 15.0488, -14.1184]], device='cuda:0', grad_fn=<SqueezeBackward0>)"
            ]
          },
          "metadata": {
            "tags": []
          },
          "execution_count": 71
        }
      ]
    },
    {
      "cell_type": "code",
      "metadata": {
        "id": "PLnEUykEwBZb",
        "colab": {
          "base_uri": "https://localhost:8080/"
        },
        "outputId": "6da40b6f-f313-417c-b6bf-2a9a49b43cad"
      },
      "source": [
        "y.long()"
      ],
      "execution_count": null,
      "outputs": [
        {
          "output_type": "execute_result",
          "data": {
            "text/plain": [
              "tensor([0, 0, 0,  ..., 0, 0, 0], device='cuda:0')"
            ]
          },
          "metadata": {
            "tags": []
          },
          "execution_count": 72
        }
      ]
    },
    {
      "cell_type": "code",
      "metadata": {
        "id": "p7LE1jr4BXeb"
      },
      "source": [
        "y_pred_np = y_pred.squeeze().cpu().data.numpy()"
      ],
      "execution_count": null,
      "outputs": []
    },
    {
      "cell_type": "code",
      "metadata": {
        "id": "UBIiEUEI-TeG"
      },
      "source": [
        "y_p = y_pred_np.squeeze()"
      ],
      "execution_count": null,
      "outputs": []
    },
    {
      "cell_type": "code",
      "metadata": {
        "id": "yEXVQlZiBmc9",
        "colab": {
          "base_uri": "https://localhost:8080/",
          "height": 390
        },
        "outputId": "e8a8aeb1-23cc-494b-ed87-a9bfb08d5754"
      },
      "source": [
        "fig, ax = plt.subplots(1, lf, figsize=(8, 6), facecolor='lightgray')\n",
        "for j in range(lf):\n",
        "  ax[j].scatter(factores[0][:n_samp], y_p[:,j], label=j, s=1)\n",
        "  ax[j].set_title(factores[1][:n_samp][j], fontsize=12)\n",
        "  #ax[j].set_ylim(-30,30)\n",
        "  #ax[j].set_xlim(-1,6)\n",
        "#plt.savefig(ruta + 'd20_x2__' +str(k) +'nn_indecopi.png')\n",
        "plt.show()"
      ],
      "execution_count": null,
      "outputs": [
        {
          "output_type": "display_data",
          "data": {
            "image/png": "[encoded data removed]",
            "text/plain": [
              "<Figure size 576x432 with 2 Axes>"
            ]
          },
          "metadata": {
            "tags": []
          }
        }
      ]
    },
    {
      "cell_type": "code",
      "metadata": {
        "id": "HngBYc3m5Zxq"
      },
      "source": [
        "X_ts = torch.tensor(vecs_arr2[n_samp:])\n",
        "X_ts = X_ts.cuda()\n",
        "y_ts = factores[0][n_samp:]"
      ],
      "execution_count": null,
      "outputs": []
    },
    {
      "cell_type": "code",
      "metadata": {
        "id": "pZYfxnSIIfsg",
        "colab": {
          "base_uri": "https://localhost:8080/",
          "height": 33
        },
        "outputId": "6afb1a4b-5c5f-4b1b-bcbc-5e9582937cb5"
      },
      "source": [
        "X_ts.shape, y_ts.shape"
      ],
      "execution_count": null,
      "outputs": [
        {
          "output_type": "execute_result",
          "data": {
            "text/plain": [
              "(torch.Size([2520, 10, 10]), (2520,))"
            ]
          },
          "metadata": {
            "tags": []
          },
          "execution_count": 253
        }
      ]
    },
    {
      "cell_type": "code",
      "metadata": {
        "id": "ZnUHCPc05Qb9"
      },
      "source": [
        "predicciones = []\n",
        "with torch.no_grad():\n",
        "  optimizer.zero_grad()\n",
        "  y_pred_ts = modelo100(X_ts.float())\n",
        "  _, pred = torch.max(y_pred_ts.squeeze().data, 1)\n",
        "  pred_np = pred.cpu().data.numpy()\n",
        "  for it in pred_np:\n",
        "    predicciones.append(it)"
      ],
      "execution_count": null,
      "outputs": []
    },
    {
      "cell_type": "code",
      "metadata": {
        "id": "dL7KB0ms569p",
        "colab": {
          "base_uri": "https://localhost:8080/",
          "height": 33
        },
        "outputId": "770ffbf0-ec05-4f3c-8dbe-1d696142b2d5"
      },
      "source": [
        "suma = 0\n",
        "for a, b in zip(predicciones, list(y_ts)):\n",
        "  suma += (a==b) * 1\n",
        "suma / len(input)"
      ],
      "execution_count": null,
      "outputs": [
        {
          "output_type": "execute_result",
          "data": {
            "text/plain": [
              "0.3895"
            ]
          },
          "metadata": {
            "tags": []
          },
          "execution_count": 255
        }
      ]
    },
    {
      "cell_type": "code",
      "metadata": {
        "id": "i_kyWfEKER13"
      },
      "source": [
        "#@title Grabación del Modelo en Drive\n",
        "ruta = 'drive/My Drive/2020 data/'\n",
        "torch.save(modelo100.state_dict(), ruta + 'modelo_ind_scom_nnconv_38.pkl')"
      ],
      "execution_count": null,
      "outputs": []
    }
  ]
}